{
 "cells": [
  {
   "cell_type": "markdown",
   "metadata": {
    "id": "mfJ15yGqjM1z"
   },
   "source": [
    "# Object Localization with TensorFlow\n",
    "\n",
    "Created for the Coursera Guided Project: [Object Localization with TensorFlow](https://www.coursera.org/projects/object-localization-tensorflow)\n",
    "\n",
    "![ObjectLocalizationExample.jpg](data:image/jpeg;base64,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)\n",
    "\n",
    "All emojis designed by [OpenMoji](https://openmoji.org/) – the open-source emoji and icon project. License: CC BY-SA 4.0"
   ]
  },
  {
   "cell_type": "markdown",
   "metadata": {
    "id": "4eWHR2O5j2g0"
   },
   "source": [
    "## Task 2: Download and Visualize Data"
   ]
  },
  {
   "cell_type": "code",
   "execution_count": null,
   "metadata": {
    "id": "UsuZWoD6cvYt"
   },
   "outputs": [],
   "source": [
    "!wget https://github.com/hfg-gmuend/openmoji/releases/latest/download/openmoji-72x72-color.zip\n",
    "!mkdir emojis\n",
    "!unzip -q openmoji-72x72-color.zip -d ./emojis"
   ]
  },
  {
   "cell_type": "code",
   "execution_count": null,
   "metadata": {
    "id": "PsBFzZWNxnFN"
   },
   "outputs": [],
   "source": [
    "%matplotlib inline\n",
    "\n",
    "import tensorflow as tf\n",
    "import numpy as np\n",
    "import matplotlib.pyplot as plt\n",
    "import os\n",
    "\n",
    "from PIL import Image, ImageDraw\n",
    "from tensorflow.keras.layers import Input, Dense, Flatten, Conv2D, MaxPool2D, BatchNormalization, Dropout\n",
    "\n",
    "print('Using TensorFlow version', tf.__version__)"
   ]
  },
  {
   "cell_type": "code",
   "execution_count": null,
   "metadata": {
    "id": "9_cD7ll7gAnD"
   },
   "outputs": [],
   "source": [
    "emojis = {\n",
    "    0: {'name': 'happy', 'file': '1F642.png'},\n",
    "    1: {'name': 'laughing', 'file': '1F602.png'},\n",
    "    2: {'name': 'skeptical', 'file': '1F928.png'},\n",
    "    3: {'name': 'sad', 'file': '1F630.png'},\n",
    "    4: {'name': 'cool', 'file': '1F60E.png'},\n",
    "    5: {'name': 'whoa', 'file': '1F62F.png'},\n",
    "    6: {'name': 'crying', 'file': '1F62D.png'},\n",
    "    7: {'name': 'puking', 'file': '1F92E.png'},\n",
    "    8: {'name': 'nervous', 'file': '1F62C.png'}\n",
    "}\n",
    "\n",
    "plt.figure(figsize=(9, 9))\n",
    "\n",
    "for i, (j, e) in enumerate(emojis.items()):\n",
    "    plt.subplot(3, 3, i + 1)\n",
    "    plt.imshow(plt.imread(os.path.join('emojis', e['file'])))\n",
    "    plt.xlabel(e['name'])\n",
    "    plt.xticks([])\n",
    "    plt.yticks([])\n",
    "plt.show()"
   ]
  },
  {
   "cell_type": "markdown",
   "metadata": {
    "id": "C0gSTjKDkJ9y"
   },
   "source": [
    "## Task 3: Create Examples"
   ]
  },
  {
   "cell_type": "code",
   "execution_count": null,
   "metadata": {
    "id": "rn91bMsseWJu"
   },
   "outputs": [],
   "source": [
    "for class_id, values in emojis.items():\n",
    "    png_file = Image.open(os.path.join('emojis', values['file'])).convert('RGBA')\n",
    "    png_file.load()\n",
    "    new_file = Image.new(\"RGB\", png_file.size, (255, 255, 255))\n",
    "    new_file.paste(png_file, mask=png_file.split()[3])\n",
    "    emojis[class_id]['image'] = new_file"
   ]
  },
  {
   "cell_type": "code",
   "execution_count": null,
   "metadata": {
    "id": "bBZgOVsUke6o"
   },
   "outputs": [],
   "source": [
    "emojis"
   ]
  },
  {
   "cell_type": "code",
   "execution_count": null,
   "metadata": {
    "id": "8xz9sL75lFLW"
   },
   "outputs": [],
   "source": [
    "def create_example():\n",
    "  class_id = np.random.randint(0, 9)\n",
    "  image = np.ones((144, 144, 3)) * 255\n",
    "  row = np.random.randint(0, 72)\n",
    "  col = np.random.randint(0, 72)\n",
    "  image[row: row + 72, col: col + 72, :] = np.array(emojis[class_id]['image'])\n",
    "  return image.astype('uint8'), class_id, (row + 10) / 144, (col + 10) / 144"
   ]
  },
  {
   "cell_type": "code",
   "execution_count": null,
   "metadata": {
    "id": "yyV_mNaQphLd"
   },
   "outputs": [],
   "source": [
    "image, class_id, row, col = create_example()\n",
    "plt.imshow(image);"
   ]
  },
  {
   "cell_type": "markdown",
   "metadata": {
    "id": "yAriAzdGkO49"
   },
   "source": [
    "## Task 4: Plot Bounding Boxes"
   ]
  },
  {
   "cell_type": "code",
   "execution_count": null,
   "metadata": {
    "id": "TSSY93pHm1Z5"
   },
   "outputs": [],
   "source": [
    "def plot_bounding_box(image, gt_coords, pred_coords=[], norm=False):\n",
    "  if norm:\n",
    "    image *= 255.\n",
    "    image = image.astype('uint8')\n",
    "  image = Image.fromarray(image)\n",
    "  draw = ImageDraw.Draw(image)\n",
    "\n",
    "  row, col = gt_coords\n",
    "  row *= 144\n",
    "  col *= 144\n",
    "  draw.rectangle((col, row, col + 52, row + 52), outline='green', width=3)\n",
    "\n",
    "  if len(pred_coords) == 2:\n",
    "    row, col = pred_coords\n",
    "    row *= 144\n",
    "    col *= 144\n",
    "    draw.rectangle((col, row, col + 52, row + 52), outline='red', width=3)\n",
    "  return image"
   ]
  },
  {
   "cell_type": "code",
   "execution_count": null,
   "metadata": {
    "id": "01TUfno0mTQv"
   },
   "outputs": [],
   "source": [
    "image = plot_bounding_box(image, gt_coords=[row, col])\n",
    "plt.imshow(image)\n",
    "plt.title(emojis[class_id]['name'])\n",
    "plt.show()"
   ]
  },
  {
   "cell_type": "markdown",
   "metadata": {
    "id": "dHiS285zkSNK"
   },
   "source": [
    "## Task 5: Data Generator"
   ]
  },
  {
   "cell_type": "code",
   "execution_count": null,
   "metadata": {
    "id": "gR5AYygBqAVH"
   },
   "outputs": [],
   "source": [
    "def data_generator(batch_size=16):\n",
    "  while True:\n",
    "    x_batch = np.zeros((batch_size, 144, 144, 3))\n",
    "    y_batch = np.zeros((batch_size, 9))\n",
    "    bbox_batch = np.zeros((batch_size, 2))\n",
    "\n",
    "    for i in range(0, batch_size):\n",
    "      image, class_id, row, col = create_example()\n",
    "      x_batch[i] = image / 255.\n",
    "      y_batch[i, class_id] = 1.0\n",
    "      bbox_batch[i] = np.array([row, col])\n",
    "    yield {'image': x_batch}, {'class_out': y_batch, 'box_out': bbox_batch}"
   ]
  },
  {
   "cell_type": "code",
   "execution_count": null,
   "metadata": {
    "id": "fY3pM-O5sS0H"
   },
   "outputs": [],
   "source": [
    "example, label = next(data_generator(1))\n",
    "image = example['image'][0]\n",
    "class_id = np.argmax(label['class_out'][0])\n",
    "coords = label['box_out'][0]\n",
    "\n",
    "image = plot_bounding_box(image, coords, norm=True)\n",
    "plt.imshow(image)\n",
    "plt.title(emojis[class_id]['name'])\n",
    "plt.show()"
   ]
  },
  {
   "cell_type": "markdown",
   "metadata": {
    "id": "JIfAVFDGkVAT"
   },
   "source": [
    "## Task 6: Model"
   ]
  },
  {
   "cell_type": "code",
   "execution_count": null,
   "metadata": {
    "id": "jahKrZ9yspGi"
   },
   "outputs": [],
   "source": [
    "input_ = Input(shape=(144, 144, 3), name='image')\n",
    "\n",
    "x = input_\n",
    "\n",
    "for i in range(0, 5):\n",
    "  n_filters = 2**(4 + i)\n",
    "  x = Conv2D(n_filters, 3, activation='relu')(x)\n",
    "  x = BatchNormalization()(x)\n",
    "  x = MaxPool2D(2)(x)\n",
    "\n",
    "x = Flatten()(x)\n",
    "x = Dense(256, activation='relu')(x)\n",
    "\n",
    "class_out = Dense(9, activation='softmax', name='class_out')(x)\n",
    "box_out = Dense(2, name='box_out')(x)\n",
    "\n",
    "model = tf.keras.models.Model(input_, [class_out, box_out])\n",
    "model.summary()"
   ]
  },
  {
   "cell_type": "markdown",
   "metadata": {
    "id": "287Mj5b8kZ_t"
   },
   "source": [
    "## Task 7: Custom Metric: IoU"
   ]
  },
  {
   "cell_type": "code",
   "execution_count": null,
   "metadata": {
    "id": "608R_-1V9QCh"
   },
   "outputs": [],
   "source": [
    "class IoU(tf.keras.metrics.Metric):\n",
    "  def __init__(self, **kwargs):\n",
    "    super(IoU, self).__init__(**kwargs)\n",
    "\n",
    "    self.iou = self.add_weight(name='iou', initializer='zeros')\n",
    "    self.total_iou = self.add_weight(name='total_iou', initializer='zeros')\n",
    "    self.num_ex = self.add_weight(name='num_ex', initializer='zeros')\n",
    "  \n",
    "  def update_state(self, y_true, y_pred, sample_weight=None):\n",
    "    def get_box(y):\n",
    "      rows, cols = y[:, 0], y[:, 1]\n",
    "      rows, cols = rows * 144, cols * 144\n",
    "      y1, y2 = rows, rows + 52\n",
    "      x1, x2 = cols, cols + 52\n",
    "      return x1, y1, x2, y2\n",
    "    \n",
    "    def get_area(x1, y1, x2, y2):\n",
    "      return tf.math.abs(x2 - x1) * tf.math.abs(y2 - y1)\n",
    "    \n",
    "    gt_x1, gt_y1, gt_x2, gt_y2 = get_box(y_true)\n",
    "    p_x1, p_y1, p_x2, p_y2 = get_box(y_pred)\n",
    "\n",
    "    i_x1 = tf.maximum(gt_x1, p_x1)\n",
    "    i_y1 = tf.maximum(gt_y1, p_y1)\n",
    "    i_x2 = tf.minimum(gt_x2, p_x2)\n",
    "    i_y2 = tf.minimum(gt_y2, p_y2)\n",
    "\n",
    "    i_area = get_area(i_x1, i_y1, i_x2, i_y2)\n",
    "    u_area = get_area(gt_x1, gt_y1, gt_x2, gt_y2) + get_area(p_x1, p_y1, p_x2, p_y2) - i_area\n",
    "\n",
    "    iou = tf.math.divide(i_area, u_area)\n",
    "    self.num_ex.assign_add(1)\n",
    "    self.total_iou.assign_add(tf.reduce_mean(iou))\n",
    "    self.iou = tf.math.divide(self.total_iou, self.num_ex)\n",
    "  \n",
    "  def result(self):\n",
    "    return self.iou\n",
    "  \n",
    "  def reset_state(self):\n",
    "    self.iou = self.add_weight(name='iou', initializer='zeros')\n",
    "    self.total_iou = self.add_weight(name='total_iou', initializer='zeros')\n",
    "    self.num_ex = self.add_weight(name='num_ex', initializer='zeros')\n"
   ]
  },
  {
   "cell_type": "markdown",
   "metadata": {
    "id": "Q9Qzo_RpNFaM"
   },
   "source": [
    "## Task 8: Compile the Model"
   ]
  },
  {
   "cell_type": "code",
   "execution_count": null,
   "metadata": {
    "id": "jl4KzYM9NEb4"
   },
   "outputs": [],
   "source": [
    "model.compile(\n",
    "    loss={\n",
    "        'class_out': 'categorical_crossentropy',\n",
    "        'box_out': 'mse'\n",
    "    },\n",
    "    optimizer=tf.keras.optimizers.Adam(learning_rate=1e-3),\n",
    "    metrics={\n",
    "        'class_out': 'accuracy',\n",
    "        'box_out': IoU(name='iou')\n",
    "    }\n",
    ")"
   ]
  },
  {
   "cell_type": "markdown",
   "metadata": {
    "id": "TgorrihHLZox"
   },
   "source": [
    "## Task 9: Custom Callback: Model Testing"
   ]
  },
  {
   "cell_type": "code",
   "execution_count": null,
   "metadata": {
    "id": "Di5DItY5vuu1"
   },
   "outputs": [],
   "source": [
    "def test_model(model, test_datagen):\n",
    "  example, label = next(test_datagen)\n",
    "  x = example['image']\n",
    "  y = label['class_out']\n",
    "  box = label['box_out']\n",
    "\n",
    "  pred_y, pred_box = model.predict(x)\n",
    "\n",
    "  pred_coords = pred_box[0]\n",
    "  gt_coords = box[0]\n",
    "  pred_class = np.argmax(pred_y[0])\n",
    "  image = x[0]\n",
    "\n",
    "  gt = emojis[np.argmax(y[0])]['name']\n",
    "  pred_class_name = emojis[pred_class]['name']\n",
    "\n",
    "  image = plot_bounding_box(image, gt_coords, pred_coords, norm=True)\n",
    "  color = 'green' if gt == pred_class_name else 'red'\n",
    "\n",
    "  plt.imshow(image)\n",
    "  plt.xlabel(f'Pred: {pred_class_name}', color=color)\n",
    "  plt.ylabel(f'GT: {gt}', color=color)\n",
    "  plt.xticks([])\n",
    "  plt.yticks([])"
   ]
  },
  {
   "cell_type": "code",
   "execution_count": null,
   "metadata": {
    "id": "xR3C5zQ_LZox"
   },
   "outputs": [],
   "source": [
    "def test(model):\n",
    "  test_datagen = data_generator(1)\n",
    "\n",
    "  plt.figure(figsize=(16, 4))\n",
    "\n",
    "  for i in range(0, 6):\n",
    "    plt.subplot(1, 6, i + 1)\n",
    "    test_model(model, test_datagen)\n",
    "  plt.show()"
   ]
  },
  {
   "cell_type": "code",
   "execution_count": null,
   "metadata": {
    "id": "_9UgYrTILZox"
   },
   "outputs": [],
   "source": [
    "test(model)"
   ]
  },
  {
   "cell_type": "code",
   "execution_count": null,
   "metadata": {
    "id": "v-A8DZ4zxQlZ"
   },
   "outputs": [],
   "source": [
    "class ShowTestImages(tf.keras.callbacks.Callback):\n",
    "  def on_epoch_end(self, epoch, logs=None):\n",
    "    test(self.model)"
   ]
  },
  {
   "cell_type": "markdown",
   "metadata": {
    "id": "lvaxZOzOkgDN"
   },
   "source": [
    "## Task 10: Model Training"
   ]
  },
  {
   "cell_type": "code",
   "execution_count": null,
   "metadata": {
    "id": "WfMjSE41ugR7"
   },
   "outputs": [],
   "source": [
    "def lr_schedule(epoch, lr):\n",
    "  if (epoch + 1) % 5 == 0:\n",
    "    lr *= 0.2\n",
    "  return max(lr, 3e-7)\n",
    "\n",
    "\n",
    "_ = model.fit(\n",
    "    data_generator(),\n",
    "    epochs=50,\n",
    "    steps_per_epoch=500,\n",
    "    callbacks=[\n",
    "               ShowTestImages(),\n",
    "               tf.keras.callbacks.EarlyStopping(monitor='box_out_iou', patience=3, mode='max'),\n",
    "               tf.keras.callbacks.LearningRateScheduler(lr_schedule)\n",
    "    ]\n",
    ")"
   ]
  },
  {
   "cell_type": "code",
   "execution_count": null,
   "metadata": {
    "id": "vRDTeZT_mSAo"
   },
   "outputs": [],
   "source": []
  }
 ],
 "metadata": {
  "accelerator": "GPU",
  "colab": {
   "collapsed_sections": [],
   "name": "Copy of Object Localization with TensorFlow - Starter.ipynb",
   "provenance": []
  },
  "kernelspec": {
   "display_name": "Python 3",
   "language": "python",
   "name": "python3"
  },
  "language_info": {
   "codemirror_mode": {
    "name": "ipython",
    "version": 3
   },
   "file_extension": ".py",
   "mimetype": "text/x-python",
   "name": "python",
   "nbconvert_exporter": "python",
   "pygments_lexer": "ipython3",
   "version": "3.7.9"
  }
 },
 "nbformat": 4,
 "nbformat_minor": 1
}
