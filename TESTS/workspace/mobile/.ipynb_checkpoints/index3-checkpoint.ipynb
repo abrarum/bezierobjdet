{
 "cells": [
  {
   "cell_type": "markdown",
   "metadata": {
    "colab_type": "text",
    "id": "view-in-github"
   },
   "source": [
    "<a href=\"https://colab.research.google.com/github/abrarum/bezierobjdet/blob/main/TESTS/workspace/mobile/index2.ipynb\" target=\"_parent\"><img src=\"https://colab.research.google.com/assets/colab-badge.svg\" alt=\"Open In Colab\"/></a>"
   ]
  },
  {
   "cell_type": "code",
   "execution_count": 1,
   "metadata": {
    "colab": {
     "base_uri": "https://localhost:8080/"
    },
    "id": "i1ePNLrUgtab",
    "outputId": "2c43c0ab-df22-4401-986d-2aab13351e04"
   },
   "outputs": [
    {
     "name": "stdout",
     "output_type": "stream",
     "text": [
      "Using TensorFlow version 2.4.1\n"
     ]
    }
   ],
   "source": [
    "%matplotlib inline\n",
    "#%reset -f\n",
    "\n",
    "import os\n",
    "os.environ[\"CUDA_VISIBLE_DEVICES\"]=\"1\"\n",
    "#!pip install bezier\n",
    "#import bezier\n",
    "#!pip uninstall matplotlib\n",
    "#!pip install matplotlib\n",
    "import tensorflow as tf\n",
    "from tensorflow import keras\n",
    "\n",
    "\n",
    "import numpy as np\n",
    "from numpy.random import rand, randint\n",
    "import matplotlib.pyplot as plt\n",
    "import os\n",
    "import fnmatch\n",
    "import pandas as pd\n",
    "\n",
    "from matplotlib.backends.backend_agg import FigureCanvasAgg\n",
    "from matplotlib.figure import Figure\n",
    "#import matplotlib\n",
    "#print('matplotlib: {}'.format(matplotlib.__version__))\n",
    "\n",
    "from PIL import Image, ImageDraw\n",
    "from keras.models import Model\n",
    "from tensorflow.keras.layers import Input, Dense, LeakyReLU, UpSampling2D, ZeroPadding2D, Flatten, Conv1D, Conv2D, Conv3D, MaxPool2D, MaxPooling2D, GlobalAveragePooling2D, BatchNormalization, Dropout, Activation\n",
    "from keras.layers.merge import add, concatenate\n",
    "\n",
    "print('Using TensorFlow version', tf.__version__)"
   ]
  },
  {
   "cell_type": "code",
   "execution_count": 2,
   "metadata": {
    "colab": {
     "base_uri": "https://localhost:8080/"
    },
    "id": "9EU6mCrugtai",
    "outputId": "270e5730-6079-4c87-88f2-514dc78ce138"
   },
   "outputs": [],
   "source": [
    "image_width = image_height = 400\n",
    "gridcell = 10\n",
    "\n",
    "# Make it False for non-COLAB env\n",
    "COLAB = False\n",
    "\n",
    "colab_base_url = '/content/drive/MyDrive/bezierobj/bezierobjdet/TESTS/workspace/mobile/'\n",
    "\n",
    "image_root = './images/multi_lines/train/' if COLAB == False else colab_base_url+'images/multi_lines/train'\n",
    "image_labels = ['line']\n",
    "\n",
    "total_files = fnmatch.filter(os.listdir(image_root), '*.png')\n",
    "#print(len(total_files))\n",
    "\n",
    "csv_path =  './images/multi_lines/train.csv' if COLAB == False else colab_base_url+'images/multi_lines/train.csv'\n",
    "df=pd.read_csv(csv_path, sep=',',header=0)\n",
    "\n",
    "def image_read(fn):\n",
    "    ''' read file_name, converts it in to RGB and return an image array '''\n",
    "    link = os.path.join(image_root, fn)\n",
    "    image = Image.open(link).convert('RGB')\n",
    "    im = np.asarray(image)\n",
    "    return im\n",
    "\n",
    "def reorder_coords(coords):\n",
    "    '''Reorders points so that the first point is closest to (0,0)'''\n",
    "    coords = list(coords) # copy\n",
    "    for i,line in enumerate(coords):\n",
    "        x0,x1, y0,y1 = line\n",
    "        if (x0**2+y0**2) > (x1**2+y1**2):\n",
    "            x0,x1, y0,y1 = x1,x0, y1,y0\n",
    "        coords[i] = [x0,x1,y0,y1]\n",
    "    return coords\n",
    "\n",
    "def getInfo(fn):\n",
    "    ''' returns image, gtruth pixels (gridcell x gridcell x 1) and coordinates (gridcell x gricell x 4) '''\n",
    "    image = image_read(fn+\".png\")\n",
    "    \n",
    "    rows = np.where(df.filename==fn)\n",
    "    \n",
    "    class_id = df[\"class\"][rows[0][0]]\n",
    "    coords = []\n",
    "    \n",
    "    for i in rows[0]:\n",
    "        c_id = []\n",
    "        c_coord = []\n",
    "        \n",
    "        c_coord.append(df.xmin[i])\n",
    "        c_coord.append(df.xmax[i])\n",
    "        #the Y coordinate axis in the annotations starts at bottom\n",
    "        #inverting\n",
    "        c_coord.append(image_height - df.ymin[i])\n",
    "        c_coord.append(image_height - df.ymax[i])\n",
    "        \n",
    "        coords.append(c_coord)\n",
    "        c_id = []\n",
    "    #coords = reorder_coords(coords)\n",
    "    return image, class_id, coords"
   ]
  },
  {
   "cell_type": "markdown",
   "metadata": {
    "id": "MtxWtU0zgtak"
   },
   "source": [
    "# PLOT LINE"
   ]
  },
  {
   "cell_type": "code",
   "execution_count": 3,
   "metadata": {
    "id": "-mUlgw7Ggtak"
   },
   "outputs": [],
   "source": [
    "def plot_line(image, pred_coords, norm=False):\n",
    "    ''' create a canvas image on an axis incorp. image and coordinates into 1. '''\n",
    "    \n",
    "    #correct image size, no padding\n",
    "    figo = Figure(figsize=(2,2), dpi=image_height/2, tight_layout={'pad':0})\n",
    "\n",
    "    canvas = FigureCanvasAgg(figo)\n",
    "\n",
    "    # plot\n",
    "    ax_r = figo.add_subplot()\n",
    "    if norm:\n",
    "        image *= 255.\n",
    "        image = image.astype(np.uint8)\n",
    "    \n",
    "    ax_r.imshow(image)\n",
    "    #set plot limits in case coords as out-of-bounds\n",
    "    ax_r.set_ylim(image_height,0)\n",
    "    ax_r.set_xlim(0,image_width)\n",
    "    \n",
    "    for i in pred_coords:\n",
    "        xmin, xmax, ymin, ymax = i\n",
    "        ax_r.plot([xmin, xmax], [ymin, ymax], 'r+', linestyle='dotted', label='prediction')\n",
    "    \n",
    "    ax_r.set_axis_off()\n",
    "\n",
    "    canvas.draw()\n",
    "\n",
    "    buf = canvas.buffer_rgba()\n",
    "    # ... convert to a NumPy array ...\n",
    "    X = np.asarray(buf)\n",
    "    # ... and pass it to PIL.\n",
    "    im = Image.fromarray(X)\n",
    "\n",
    "    return im\n",
    "\n",
    "def randlGen():\n",
    "    ''' random image generator from data file_name '''\n",
    "    rElem = np.random.choice(total_files)\n",
    "    rElem = rElem[0:-4]\n",
    "    return rElem"
   ]
  },
  {
   "cell_type": "code",
   "execution_count": 4,
   "metadata": {
    "colab": {
     "base_uri": "https://localhost:8080/",
     "height": 319
    },
    "id": "IPtI6k7Ggtal",
    "outputId": "4aac5516-a64b-4dfe-860e-ac6597bb2d1a"
   },
   "outputs": [
    {
     "data": {
      "image/png": "[encoded data removed]",
      "text/plain": [
       "<Figure size 432x288 with 1 Axes>"
      ]
     },
     "metadata": {
      "needs_background": "light"
     },
     "output_type": "display_data"
    }
   ],
   "source": [
    "# testing getInfo and plot_line\n",
    "image, class_id, pred_coords = getInfo(randlGen())\n",
    "\n",
    "image = plot_line(image, pred_coords,norm=False)\n",
    "plt.imshow(image)\n",
    "plt.title(\"line\")\n",
    "#plt.tight_layout(pad=0)\n",
    "plt.show()"
   ]
  },
  {
   "cell_type": "markdown",
   "metadata": {
    "id": "jHTDYNjHgtal"
   },
   "source": [
    "# Pixel gTruth and Line gTruth"
   ]
  },
  {
   "cell_type": "markdown",
   "metadata": {},
   "source": [
    "***"
   ]
  },
  {
   "cell_type": "code",
   "execution_count": 287,
   "metadata": {},
   "outputs": [
    {
     "data": {
      "image/png": "[encoded data removed]",
      "text/plain": [
       "<Figure size 864x504 with 4 Axes>"
      ]
     },
     "metadata": {
      "needs_background": "light"
     },
     "output_type": "display_data"
    }
   ],
   "source": [
    "def point_linesegment_distance(points, line):\n",
    "    '''Computes the (approximate) distance from `points` (shape [N,2] to the line segment line (shape [2,2])'''\n",
    "    direction = line[1] - line[0]\n",
    "    N = 100\n",
    "    points_on_line = line[0] + direction[np.newaxis] * np.linspace(0,1,N)[:,np.newaxis]\n",
    "    distances      = np.sqrt(((points[np.newaxis] - points_on_line[:, np.newaxis])**2).sum(-1))\n",
    "    return distances.min(axis=0)\n",
    "\n",
    "def generate_cellcenters(gridsize):\n",
    "    cellcenters = np.stack(np.meshgrid(*[np.arange(gridsize)]*2, indexing='ij'), axis=-1)  #shape: 10,10,2\n",
    "    cellcenters = (cellcenters+0.5) / gridsize  #normalized coordinates 0...1\n",
    "    return cellcenters\n",
    "\n",
    "def encode_lines(lines, distance_threshold=0.05):\n",
    "    '''Encodes a set of lines into a classification and regression map/target'''\n",
    "    c_targets = []  #classification targets (one per line)\n",
    "    r_targets = []  #regression targets (one per line)\n",
    "    \n",
    "    for xxyy in lines:\n",
    "        x1, x2, y1, y2 = xxyy\n",
    "        line = np.array( [[y1,x1],[y2,x2]] ) / (image_height, image_width) #normalized coordinates 0...1\n",
    "        \n",
    "        cellcenters = generate_cellcenters(gridcell)\n",
    "        distances   = point_linesegment_distance(cellcenters.reshape(-1, 2), line).reshape(gridcell,gridcell)\n",
    "        \n",
    "        c_targets  += [distances < distance_threshold]\n",
    "        r_targets  += [line - cellcenters[...,np.newaxis,:]]\n",
    "    \n",
    "    #combine the per-line targets to a single per-image target\n",
    "    c_target = np.max(c_targets, axis=0)*1.0\n",
    "    #for each gridcell select the regression target that is active in c_target\n",
    "    #NOTE: this is not perfect for overlapping lines\n",
    "    r_target = np.take_along_axis(np.array(r_targets), np.argmax(c_targets, axis=0)[None,...,None,None], axis=0)[0]\n",
    "    #zero out the c_target is inactive (not really needed, only for visualization)\n",
    "    r_target = r_target * c_target[...,None,None]\n",
    "    return c_target[...,np.newaxis], r_target.reshape(gridcell,gridcell,4)\n",
    "\n",
    "\n",
    "def nms(c_map, c_threshold):\n",
    "    # filter out the maximum probab. in the pool\n",
    "    nms_cmap = tf.nn.max_pool1d(c_map, 3, strides=1, padding=\"SAME\")\n",
    "    # replace and multiply the probab with 1 or 0 depending on the similarity of the two arrays to get unique indices\n",
    "    mask = (c_map == nms_cmap.numpy()).astype(float).clip(min=0.0)\n",
    "    map_mask = c_map * mask\n",
    "    \n",
    "    # get the top k max probab.\n",
    "    \n",
    "    # ravel it to the floor\n",
    "    raveled = np.ravel(map_mask)\n",
    "    # sort the pieces\n",
    "    sortedout = np.sort(raveled)\n",
    "    # get the best k pieces\n",
    "    topk_vals = sortedout[-3:]\n",
    "    # make sure the pieces aren't trash (zeros or under threshold)\n",
    "    topk_vals = topk_vals[topk_vals > c_threshold]\n",
    "    # truthy pixels are the ones having the best non-zero pieces\n",
    "    isin = np.isin(map_mask, topk_vals)\n",
    "    # reshape it to chain the existing code\n",
    "    reshaped_isin = isin.reshape((10,10))\n",
    "    \n",
    "    return reshaped_isin\n",
    "\n",
    "    \n",
    "def decode_lines(c_map, r_map, c_threshold=0.6):\n",
    "    \n",
    "    '''non max suppression'''\n",
    "    thresholded = nms(c_map, c_threshold) # shape 10x10\n",
    "    \n",
    "    '''Decodes a classification and regression map into a set of lines (with NMS)'''\n",
    "    cellcenters = cellcenters = generate_cellcenters(gridcell)\n",
    "    \n",
    "    positive_cell_indices = np.stack( thresholded.nonzero(), axis=-1 )\n",
    "    positive_cell_centers = cellcenters[thresholded]\n",
    "    \n",
    "    #print(\"positive_cell_centers\", positive_cell_centers)\n",
    "    \n",
    "    positive_reg          = r_map[thresholded]\n",
    "    \n",
    "    lines  = np.concatenate([positive_cell_centers]*2, axis=-1) + positive_reg\n",
    "    lines *= [image_height, image_width]*2   #normalized -> pixel values\n",
    "    lines_xxyy = np.concatenate([lines[...,1::2], lines[...,0::2]], axis=-1)\n",
    "    return lines_xxyy\n",
    "\n",
    "image, class_id, coords = getInfo('li_195')\n",
    "#image, class_id, coords = getInfo(randlGen())\n",
    "#image, class_id, coords = getInfo('li_4776') #empty\n",
    "\n",
    "\n",
    "plt.figure(0, (12,7))\n",
    "plt.subplot(141); plt.imshow( image ); plt.title('Input image');\n",
    "plt.subplot(142); plt.imshow( encode_lines(coords)[0][...,0] ); plt.title('CLS target');\n",
    "plt.subplot(143); plt.imshow( encode_lines(coords)[1][...,2] ); plt.title('REG target');\n",
    "plt.subplot(144); plt.imshow( np.ones_like(image)*224 ); plt.title('Reconstructed lines')\n",
    "for line in decode_lines( *encode_lines(coords) ):\n",
    "    plt.plot(line[:2], line[2:], '--')"
   ]
  },
  {
   "cell_type": "markdown",
   "metadata": {
    "id": "_yqTwWhtgtan"
   },
   "source": [
    "***\n",
    "# DATA GEN"
   ]
  },
  {
   "cell_type": "code",
   "execution_count": 6,
   "metadata": {},
   "outputs": [],
   "source": [
    "batch_size = 32\n",
    "\n",
    "def regression_weight_map(cls_target):\n",
    "    '''Creates a weight map for the regression target.\n",
    "       The weight map is 1.0 where the classification target is not zero.\n",
    "       Shape=(B,H,W)  (no channel dimension as required by the loss functions)'''\n",
    "    return (cls_target[...,0] > 0).astype('float32')\n",
    "\n",
    "def data_generator(batch_size=32):\n",
    "    while 1:\n",
    "        permutation = np.random.permutation(len(total_files))\n",
    "        for i in range(0, len(total_files), batch_size):\n",
    "            images    = []\n",
    "            c_targets = []\n",
    "            r_targets = []\n",
    "            for j in permutation[i:][:batch_size]:\n",
    "                index                   = total_files[j].replace('.png','')\n",
    "                image, class_id, coords = getInfo(index)\n",
    "                image                   = image / np.float32(255)\n",
    "                c_target, r_target      = encode_lines(coords)\n",
    "                images    += [image]\n",
    "                c_targets += [c_target]\n",
    "                r_targets += [r_target]\n",
    "\n",
    "            images    = np.stack(images)\n",
    "            c_targets = np.stack(c_targets)\n",
    "            r_targets = np.stack(r_targets)\n",
    "            sample_weight = regression_weight_map(c_targets)\n",
    "            yield {'image': images}, {'class_out': c_targets, 'line_out': r_targets}, {'line_out': sample_weight}"
   ]
  },
  {
   "cell_type": "markdown",
   "metadata": {
    "id": "yUER4Ez6gtaq"
   },
   "source": [
    "***\n",
    "# MODEL"
   ]
  },
  {
   "cell_type": "code",
   "execution_count": 7,
   "metadata": {
    "colab": {
     "base_uri": "https://localhost:8080/"
    },
    "id": "LQQy2q6kgtaq",
    "outputId": "b1a649ba-57e5-467f-98ac-b471fe4fbe6c"
   },
   "outputs": [],
   "source": [
    "def build_model():\n",
    "    '''' model '''\n",
    "    input_ = Input(shape=(image_height, image_width, 3), name='image')\n",
    "\n",
    "    x = input_\n",
    "\n",
    "    for n_filters in [16, 32, 64, 128, 256]:\n",
    "      x = Conv2D(n_filters, 3, activation='relu')(x)\n",
    "      x = BatchNormalization(momentum=0.9)(x)\n",
    "      #x = Conv2D(n_filters, 3, activation='relu', padding='same')(x)\n",
    "      #x = BatchNormalization()(x)\n",
    "      x = MaxPool2D(2)(x)\n",
    "    \n",
    "    #x = Dropout(0.50)(x)\n",
    "    #x1 = Conv2D(1, (1,1), name=\"class_out\", activation='sigmoid')(x)\n",
    "    #x2 = Conv2D(4, (1,1), name=\"line_out\")(x)\n",
    "    \n",
    "    x1 = Conv2D(n_filters, 3, activation='relu', padding='same')(x)\n",
    "    x1 = BatchNormalization(momentum=0.9)(x1)\n",
    "    x1 = Conv2D(1, (1,1), name=\"class_out\", activation='sigmoid')(x1)\n",
    "    \n",
    "    x2 = Conv2D(n_filters, 3, activation='relu', padding='same')(x)\n",
    "    x2 = BatchNormalization(momentum=0.9)(x2)\n",
    "    x2 = Conv2D(4, (1,1), name=\"line_out\")(x2)\n",
    "    \n",
    "    model = tf.keras.models.Model(input_, [x1,x2])\n",
    "    #model.summary()\n",
    "    return model"
   ]
  },
  {
   "cell_type": "code",
   "execution_count": 8,
   "metadata": {
    "id": "0z5zFgO7gtar"
   },
   "outputs": [],
   "source": [
    "model = build_model()\n",
    "\n",
    "model.compile(\n",
    "    loss={\n",
    "        #from_logits=True if class_out has no activation function\n",
    "        #from_logits=False if class_out has sigmoid activation\n",
    "        'class_out': keras.losses.BinaryCrossentropy(from_logits=False),\n",
    "        #'class_out': keras.losses.MeanAbsoluteError(),\n",
    "        'line_out': 'mae'\n",
    "    },\n",
    "    #loss_weights={ 'class_out':1.0, 'line_out':1e-5 },\n",
    "    loss_weights={ 'class_out':1.0, 'line_out':10.0 },\n",
    "    #optimizer=tf.keras.optimizers.Adam(learning_rate=0.0001),\n",
    "    optimizer=tf.keras.optimizers.SGD(learning_rate=0.1, momentum=0.9),\n",
    "    metrics={\n",
    "        'class_out': 'accuracy',\n",
    "        #'line_out': [tf.keras.metrics.MeanAbsoluteError()]\n",
    "    },\n",
    ")"
   ]
  },
  {
   "cell_type": "markdown",
   "metadata": {
    "id": "2cUF4Ao8gtat"
   },
   "source": [
    "# Model Training"
   ]
  },
  {
   "cell_type": "code",
   "execution_count": 9,
   "metadata": {
    "colab": {
     "base_uri": "https://localhost:8080/",
     "height": 1000
    },
    "id": "pJS0sImxgtat",
    "outputId": "e9e74ed2-6701-4673-ffe4-1b661a3de2e1",
    "scrolled": true
   },
   "outputs": [
    {
     "name": "stdout",
     "output_type": "stream",
     "text": [
      "Epoch 1/15\n",
      "WARNING:tensorflow:multiprocessing can interact badly with TensorFlow, causing nondeterministic deadlocks. For high performance data pipelines tf.data is recommended.\n",
      "140/140 [==============================] - 67s 280ms/step - loss: 1.6543 - class_out_loss: 0.2669 - line_out_loss: 0.1387 - class_out_accuracy: 0.9048\n",
      "Epoch 2/15\n",
      "140/140 [==============================] - 35s 247ms/step - loss: 0.2411 - class_out_loss: 0.0681 - line_out_loss: 0.0173 - class_out_accuracy: 0.9754\n",
      "Epoch 3/15\n",
      "140/140 [==============================] - 36s 256ms/step - loss: 0.2344 - class_out_loss: 0.0891 - line_out_loss: 0.0145 - class_out_accuracy: 0.9668\n",
      "Epoch 4/15\n",
      "140/140 [==============================] - 36s 253ms/step - loss: 0.2014 - class_out_loss: 0.0756 - line_out_loss: 0.0126 - class_out_accuracy: 0.9715\n",
      "Epoch 5/15\n",
      "140/140 [==============================] - 36s 256ms/step - loss: 0.2090 - class_out_loss: 0.0688 - line_out_loss: 0.0140 - class_out_accuracy: 0.9753\n",
      "Epoch 6/15\n",
      "140/140 [==============================] - 35s 249ms/step - loss: 0.2068 - class_out_loss: 0.0805 - line_out_loss: 0.0126 - class_out_accuracy: 0.9695\n",
      "Epoch 7/15\n",
      "140/140 [==============================] - 35s 251ms/step - loss: 0.2091 - class_out_loss: 0.0737 - line_out_loss: 0.0135 - class_out_accuracy: 0.9730\n",
      "Epoch 8/15\n",
      "140/140 [==============================] - 36s 255ms/step - loss: 0.2332 - class_out_loss: 0.0801 - line_out_loss: 0.0153 - class_out_accuracy: 0.9707\n",
      "Epoch 9/15\n",
      "140/140 [==============================] - 36s 255ms/step - loss: 0.2218 - class_out_loss: 0.0646 - line_out_loss: 0.0157 - class_out_accuracy: 0.9774\n",
      "Epoch 10/15\n",
      "140/140 [==============================] - 38s 270ms/step - loss: 0.2182 - class_out_loss: 0.0693 - line_out_loss: 0.0149 - class_out_accuracy: 0.9775\n",
      "Epoch 11/15\n",
      "140/140 [==============================] - 35s 251ms/step - loss: 0.2208 - class_out_loss: 0.0783 - line_out_loss: 0.0143 - class_out_accuracy: 0.9719\n",
      "Epoch 12/15\n",
      "140/140 [==============================] - 35s 251ms/step - loss: 0.1708 - class_out_loss: 0.0576 - line_out_loss: 0.0113 - class_out_accuracy: 0.9809\n",
      "Epoch 13/15\n",
      "140/140 [==============================] - 36s 258ms/step - loss: 0.2203 - class_out_loss: 0.0756 - line_out_loss: 0.0145 - class_out_accuracy: 0.9742\n",
      "Epoch 14/15\n",
      "140/140 [==============================] - 36s 254ms/step - loss: 0.2064 - class_out_loss: 0.0611 - line_out_loss: 0.0145 - class_out_accuracy: 0.9794\n",
      "Epoch 15/15\n",
      "140/140 [==============================] - 37s 264ms/step - loss: 0.2493 - class_out_loss: 0.0806 - line_out_loss: 0.0169 - class_out_accuracy: 0.9699\n",
      "INFO:tensorflow:Assets written to: ./my_model/assets\n"
     ]
    }
   ],
   "source": [
    "def lr_schedule(epoch, lr):\n",
    "  if (epoch + 1) % 10 == 0:\n",
    "    lr *= 0.2\n",
    "    print('new lr:', lr)\n",
    "  return max(lr, 3e-7)\n",
    "\n",
    "\n",
    "_ = model.fit(\n",
    "    data_generator(batch_size),\n",
    "    use_multiprocessing=True,\n",
    "    workers=os.cpu_count(),\n",
    "    epochs=15,\n",
    "    steps_per_epoch=len(total_files) / batch_size,\n",
    "    callbacks=[\n",
    "               #ShowTestImages(),\n",
    "               #tf.keras.callbacks.EarlyStopping(monitor='line_out_mean_absolute_error', patience=3, mode='max'),\n",
    "               #tf.keras.callbacks.LearningRateScheduler(lr_schedule)\n",
    "    ]\n",
    ")\n",
    "model_path = './my_model' if COLAB == False else colab_base_url+'my_model'\n",
    "model.save(model_path)"
   ]
  },
  {
   "cell_type": "markdown",
   "metadata": {
    "id": "zajI170Agtau"
   },
   "source": [
    "***\n",
    "**Outputs after a few epochs training**"
   ]
  },
  {
   "cell_type": "code",
   "execution_count": 284,
   "metadata": {
    "id": "w1dXUMzFgtau"
   },
   "outputs": [],
   "source": [
    "_x,_y,_ = next(iter(data_generator()))\n",
    "_out_cls, _out_reg = model.predict(_x['image'])"
   ]
  },
  {
   "cell_type": "code",
   "execution_count": 285,
   "metadata": {},
   "outputs": [],
   "source": [
    "_x,_y,_  = next(iter(data_generator()))\n",
    "_out_cls, _out_reg = model(_x['image'], training=True)  #XXX: training=True!\n",
    "_out_cls = _out_cls.numpy()\n",
    "_out_reg = _out_reg.numpy()"
   ]
  },
  {
   "cell_type": "code",
   "execution_count": 286,
   "metadata": {},
   "outputs": [
    {
     "data": {
      "image/png": "[encoded data removed]",
      "text/plain": [
       "<Figure size 1440x288 with 3 Axes>"
      ]
     },
     "metadata": {
      "needs_background": "light"
     },
     "output_type": "display_data"
    },
    {
     "data": {
      "image/png": "[encoded data removed]",
      "text/plain": [
       "<Figure size 1440x288 with 3 Axes>"
      ]
     },
     "metadata": {
      "needs_background": "light"
     },
     "output_type": "display_data"
    },
    {
     "data": {
      "image/png": "[encoded data removed]",
      "text/plain": [
       "<Figure size 1440x288 with 3 Axes>"
      ]
     },
     "metadata": {
      "needs_background": "light"
     },
     "output_type": "display_data"
    },
    {
     "data": {
      "image/png": "[encoded data removed]",
      "text/plain": [
       "<Figure size 1440x288 with 3 Axes>"
      ]
     },
     "metadata": {
      "needs_background": "light"
     },
     "output_type": "display_data"
    },
    {
     "data": {
      "image/png": "[encoded data removed]",
      "text/plain": [
       "<Figure size 1440x288 with 3 Axes>"
      ]
     },
     "metadata": {
      "needs_background": "light"
     },
     "output_type": "display_data"
    }
   ],
   "source": [
    "for i in range(5):\n",
    "    plt.figure(i, (20,4))\n",
    "    plt.subplot(131); plt.imshow( _x['image'][i])\n",
    "    plt.subplot(132); plt.imshow( _out_cls[i], vmin=0, vmax=1 )\n",
    "    plt.subplot(133); plt.imshow( np.ones_like(_x['image'][i])*0.8 ); plt.title('Reconstructed lines')\n",
    "    for line in decode_lines(_out_cls[i], _out_reg[i], c_threshold=0.6):\n",
    "        plt.plot(line[:2], line[2:], '--')"
   ]
  },
  {
   "cell_type": "markdown",
   "metadata": {},
   "source": [
    "# EVALUATION"
   ]
  },
  {
   "cell_type": "code",
   "execution_count": 352,
   "metadata": {},
   "outputs": [
    {
     "name": "stdout",
     "output_type": "stream",
     "text": [
      "dist [[7.85441996e-09 3.45766204e-12 1.89265272e-10 7.08085207e-10\n",
      "  3.45770771e-12 1.89268876e-10 7.08091983e-10 3.45760877e-12\n",
      "  3.21515411e-11 1.28242516e-08]\n",
      " [1.08908821e-13 7.08085207e-10 1.60933130e-10 1.46088985e-13\n",
      "  5.58004742e-10 7.08085207e-10 7.08067685e-10 7.08062457e-10\n",
      "  2.62822618e-10 1.44029319e-09]\n",
      " [7.85443544e-09 7.08085207e-10 7.08085207e-10 7.08085207e-10\n",
      "  7.08085207e-10 7.08085207e-10 7.08085207e-10 7.08085207e-10\n",
      "  7.08084045e-10 2.38451427e-08]\n",
      " [7.85368616e-09 1.61896914e-12 5.46957259e-12 3.29237284e-11\n",
      "  7.12815308e-12 2.54746328e-09 7.08090725e-10 7.08067685e-10\n",
      "  7.08084045e-10 2.38451427e-08]\n",
      " [9.74475352e-11 5.38592785e-09 2.33970228e-12 2.80255920e-14\n",
      "  2.95299806e-15 2.26669125e-15 7.08086756e-10 5.15772609e-09\n",
      "  4.10225234e-08 1.03417408e-10]\n",
      " [6.30817485e-15 1.04705541e-12 1.93513644e-12 2.07362393e-13\n",
      "  2.48360206e-13 2.54429301e-11 7.08078624e-10 7.08081238e-10\n",
      "  7.08084045e-10 2.38451427e-08]\n",
      " [7.06484068e-10 1.63384251e-14 4.53000586e-11 1.88752255e-15\n",
      "  2.78553804e-14 7.08085207e-10 7.08085207e-10 7.08085207e-10\n",
      "  7.08084045e-10 2.38451427e-08]\n",
      " [1.94395235e-11 2.27194167e-11 1.63287939e-10 2.01872815e-10\n",
      "  7.08066426e-10 7.08086756e-10 1.03472465e-10 7.08085207e-10\n",
      "  6.03865489e-11 2.38449630e-08]\n",
      " [7.85422394e-09 7.08078624e-10 2.42065637e-11 7.61716176e-10\n",
      "  7.13328119e-12 2.55777773e-07 4.42189447e-09 4.09704544e-08\n",
      "  2.98055094e-10 2.38451427e-08]\n",
      " [2.05069003e-18 5.35688152e-17 6.86358868e-17 6.50717340e-13\n",
      "  1.12673575e-11 8.87338362e-10 1.58301646e-07 4.79803180e-07\n",
      "  2.44180213e-10 2.38451023e-08]\n",
      " [6.98752272e-09 7.08086756e-10 7.08086756e-10 1.21082905e-09\n",
      "  9.61734154e-12 2.04001307e-12 7.08097501e-10 5.73309891e-10\n",
      "  7.08078624e-10 2.38451427e-08]\n",
      " [7.85250235e-09 3.41966206e-10 5.15542094e-15 2.78536638e-08\n",
      "  5.95714710e-04 6.20202310e-06 1.50094540e-05 1.81135971e-08\n",
      "  8.85525433e-09 4.54955964e-08]\n",
      " [9.19932821e-13 1.82607594e-10 6.52119397e-12 2.86144213e-11\n",
      "  2.86929298e-12 5.95033167e-11 1.06593820e-10 9.95947081e-13\n",
      "  3.22956147e-11 1.35063558e-08]\n",
      " [7.85443544e-09 7.08085207e-10 7.08085207e-10 7.08085207e-10\n",
      "  7.08085207e-10 7.08085207e-10 7.08085207e-10 7.08085207e-10\n",
      "  7.08084045e-10 2.38451427e-08]\n",
      " [7.85425489e-09 7.08078624e-10 2.12560699e-12 1.30055766e-11\n",
      "  1.67142180e-17 5.40126984e-14 2.44005273e-14 2.97100896e-15\n",
      "  1.00291053e-16 8.15211881e-15]\n",
      " [1.10048005e-12 9.59938024e-17 1.09005320e-11 2.88383838e-12\n",
      "  1.82852251e-10 4.40560816e-10 6.85325903e-10 9.08108839e-11\n",
      "  7.08074461e-10 8.90553000e-11]\n",
      " [9.02483160e-14 4.43819607e-14 5.16422453e-12 7.08096146e-10\n",
      "  7.08085207e-10 7.08085207e-10 7.08070395e-10 7.08081238e-10\n",
      "  7.08084045e-10 2.38451427e-08]\n",
      " [5.11709302e-11 4.31752398e-12 4.39141991e-11 7.70722210e-11\n",
      "  7.08082593e-10 3.77886507e-13 7.08085207e-10 1.46689250e-07\n",
      "  9.25715067e-05 2.05932817e-03]\n",
      " [7.85395698e-09 1.61834037e-11 1.44033530e-11 3.17667637e-10\n",
      "  2.30786488e-11 4.49016894e-10 1.00824252e-10 6.98935604e-10\n",
      "  7.08084045e-10 2.38451427e-08]\n",
      " [7.85443544e-09 7.08085207e-10 7.08085207e-10 7.08085207e-10\n",
      "  7.08085207e-10 7.08085207e-10 7.08085207e-10 7.08085207e-10\n",
      "  7.08084045e-10 2.38451427e-08]\n",
      " [8.97226971e-13 7.08085207e-10 7.08084045e-10 7.08085207e-10\n",
      "  7.08085207e-10 7.08085207e-10 7.08085207e-10 7.08085207e-10\n",
      "  7.08084045e-10 2.38451427e-08]\n",
      " [7.85370164e-09 4.66190827e-11 7.08088014e-10 3.73469608e-12\n",
      "  9.31956288e-13 2.48762600e-10 6.98829516e-09 7.08086756e-10\n",
      "  7.08084045e-10 2.38451427e-08]\n",
      " [7.85443544e-09 7.08085207e-10 7.08085207e-10 7.08085207e-10\n",
      "  7.08085207e-10 7.08085207e-10 7.08085207e-10 4.20267811e-10\n",
      "  2.46156823e-10 3.12676717e-11]\n",
      " [5.87210797e-13 1.73450233e-13 1.18481089e-11 7.62737553e-11\n",
      "  5.29209245e-13 1.05289575e-15 7.08066426e-10 7.08056940e-10\n",
      "  7.08084045e-10 2.38451427e-08]\n",
      " [1.32791975e-11 1.38495867e-10 4.63199058e-12 1.00844141e-07\n",
      "  3.39340374e-07 4.35319999e-08 1.18113199e-10 6.42412375e-12\n",
      "  2.48748370e-10 2.02769333e-08]\n",
      " [7.85425489e-09 7.19448427e-10 2.07194088e-11 2.09397430e-12\n",
      "  8.21000389e-09 1.10407854e-10 3.02323602e-11 2.54744419e-09\n",
      "  7.08084045e-10 2.38451427e-08]\n",
      " [7.85443544e-09 7.08085207e-10 7.08085207e-10 7.08085207e-10\n",
      "  7.08085207e-10 7.08085207e-10 7.08085207e-10 7.08085207e-10\n",
      "  7.08084045e-10 2.38451427e-08]\n",
      " [7.85443544e-09 7.08085207e-10 7.08085207e-10 7.08085207e-10\n",
      "  7.08085207e-10 7.08085207e-10 7.08085207e-10 7.08085207e-10\n",
      "  7.08084045e-10 2.38451427e-08]\n",
      " [7.85443544e-09 7.08085207e-10 7.08085207e-10 7.08085207e-10\n",
      "  7.08085207e-10 7.08085207e-10 7.08085207e-10 7.08085207e-10\n",
      "  7.08084045e-10 2.38451427e-08]\n",
      " [2.52168882e-13 7.78856057e-14 4.62077801e-13 2.37201775e-14\n",
      "  2.46956768e-13 7.18472699e-13 7.94766240e-14 7.08081238e-10\n",
      "  7.08084045e-10 2.38451427e-08]\n",
      " [7.85413624e-09 6.53123214e-10 1.23209389e-09 2.70473976e-11\n",
      "  8.60139934e-21 3.76431733e-28 2.24135384e-21 4.30567488e-23\n",
      "  3.88115667e-21 1.18165622e-12]\n",
      " [2.99170709e-13 3.24275440e-10 6.69729560e-11 8.67351386e-12\n",
      "  3.95619108e-09 8.12627390e-09 6.27722194e-07 7.08091983e-10\n",
      "  7.08084045e-10 2.38451427e-08]]\n"
     ]
    },
    {
     "ename": "ValueError",
     "evalue": "The truth value of an array with more than one element is ambiguous. Use a.any() or a.all()",
     "output_type": "error",
     "traceback": [
      "\u001b[0;31m---------------------------------------------------------------------------\u001b[0m",
      "\u001b[0;31mValueError\u001b[0m                                Traceback (most recent call last)",
      "\u001b[0;32m<ipython-input-352-a23394043d32>\u001b[0m in \u001b[0;36m<module>\u001b[0;34m\u001b[0m\n\u001b[1;32m     38\u001b[0m \u001b[0;34m\u001b[0m\u001b[0m\n\u001b[1;32m     39\u001b[0m \u001b[0;34m\u001b[0m\u001b[0m\n\u001b[0;32m---> 40\u001b[0;31m \u001b[0mtp_fp_fn\u001b[0m\u001b[0;34m(\u001b[0m\u001b[0mcls_pred\u001b[0m\u001b[0;34m,\u001b[0m \u001b[0mcls_gt\u001b[0m\u001b[0;34m,\u001b[0m \u001b[0mthreshold\u001b[0m\u001b[0;34m)\u001b[0m\u001b[0;34m\u001b[0m\u001b[0;34m\u001b[0m\u001b[0m\n\u001b[0m\u001b[1;32m     41\u001b[0m \u001b[0;31m#precision(cls_pred, cls_gt, threshold)\u001b[0m\u001b[0;34m\u001b[0m\u001b[0;34m\u001b[0m\u001b[0;34m\u001b[0m\u001b[0m\n\u001b[1;32m     42\u001b[0m \u001b[0;31m#recall(cls_pred, cls_gt, threshold)\u001b[0m\u001b[0;34m\u001b[0m\u001b[0;34m\u001b[0m\u001b[0;34m\u001b[0m\u001b[0m\n",
      "\u001b[0;32m<ipython-input-352-a23394043d32>\u001b[0m in \u001b[0;36mtp_fp_fn\u001b[0;34m(cls_pred, cls_gt, threshold)\u001b[0m\n\u001b[1;32m     16\u001b[0m     \u001b[0mfp\u001b[0m \u001b[0;34m=\u001b[0m \u001b[0mnp\u001b[0m\u001b[0;34m.\u001b[0m\u001b[0mzeros\u001b[0m\u001b[0;34m(\u001b[0m\u001b[0mlen\u001b[0m\u001b[0;34m(\u001b[0m\u001b[0mcls_pred\u001b[0m\u001b[0;34m)\u001b[0m\u001b[0;34m,\u001b[0m \u001b[0mfloat\u001b[0m\u001b[0;34m)\u001b[0m\u001b[0;34m\u001b[0m\u001b[0;34m\u001b[0m\u001b[0m\n\u001b[1;32m     17\u001b[0m     \u001b[0;32mfor\u001b[0m \u001b[0mi\u001b[0m \u001b[0;32min\u001b[0m \u001b[0mrange\u001b[0m\u001b[0;34m(\u001b[0m\u001b[0mlen\u001b[0m\u001b[0;34m(\u001b[0m\u001b[0mcls_pred\u001b[0m\u001b[0;34m)\u001b[0m\u001b[0;34m)\u001b[0m\u001b[0;34m:\u001b[0m\u001b[0;34m\u001b[0m\u001b[0;34m\u001b[0m\u001b[0m\n\u001b[0;32m---> 18\u001b[0;31m         \u001b[0;32mif\u001b[0m \u001b[0mdist\u001b[0m\u001b[0;34m[\u001b[0m\u001b[0mi\u001b[0m\u001b[0;34m]\u001b[0m \u001b[0;34m<\u001b[0m \u001b[0mthreshold\u001b[0m \u001b[0;32mand\u001b[0m \u001b[0;32mnot\u001b[0m \u001b[0mhit\u001b[0m\u001b[0;34m[\u001b[0m\u001b[0mchoice\u001b[0m\u001b[0;34m[\u001b[0m\u001b[0mi\u001b[0m\u001b[0;34m]\u001b[0m\u001b[0;34m]\u001b[0m\u001b[0;34m:\u001b[0m\u001b[0;34m\u001b[0m\u001b[0;34m\u001b[0m\u001b[0m\n\u001b[0m\u001b[1;32m     19\u001b[0m             \u001b[0mhit\u001b[0m\u001b[0;34m[\u001b[0m\u001b[0mchoice\u001b[0m\u001b[0;34m[\u001b[0m\u001b[0mi\u001b[0m\u001b[0;34m]\u001b[0m\u001b[0;34m]\u001b[0m \u001b[0;34m=\u001b[0m \u001b[0;32mTrue\u001b[0m\u001b[0;34m\u001b[0m\u001b[0;34m\u001b[0m\u001b[0m\n\u001b[1;32m     20\u001b[0m             \u001b[0mtp\u001b[0m\u001b[0;34m[\u001b[0m\u001b[0mi\u001b[0m\u001b[0;34m]\u001b[0m \u001b[0;34m=\u001b[0m \u001b[0;36m1\u001b[0m\u001b[0;34m\u001b[0m\u001b[0;34m\u001b[0m\u001b[0m\n",
      "\u001b[0;31mValueError\u001b[0m: The truth value of an array with more than one element is ambiguous. Use a.any() or a.all()"
     ]
    }
   ],
   "source": [
    "# TEST\n",
    "cls_gt = _y['class_out']\n",
    "line_gt = _y['line_out']\n",
    "cls_pred = _out_cls\n",
    "line_pred = _out_reg\n",
    "threshold = 0.6\n",
    "\n",
    "def tp_fp_fn(cls_pred, cls_gt, threshold):\n",
    "    \n",
    "    diff = ((cls_pred - cls_gt) ** 2).sum(-1)\n",
    "    diff = np.minimum(\n",
    "        diff[:, :, 0, 0] + diff[:, :, 1, 1], diff[:, :, 0, 1] + diff[:, :, 1, 0]\n",
    "    )\n",
    "    choice = np.argmin(diff, 1)\n",
    "    dist = np.min(diff, 1)\n",
    "    hit = np.zeros(len(cls_gt), bool)\n",
    "    tp = np.zeros(len(cls_pred), float)\n",
    "    fp = np.zeros(len(cls_pred), float)\n",
    "    for i in range(len(cls_pred)):\n",
    "        if dist[i] < threshold and not hit[choice[i]]:\n",
    "            hit[choice[i]] = True\n",
    "            tp[i] = 1\n",
    "        else:\n",
    "            fp[i] = 1\n",
    "    return tp, fp\n",
    "\n",
    "def precision(cls_pred, cls_gt, threshold):\n",
    "    tp, fp = tp_fp_fn(cls_pred, cls_gt, threshold)\n",
    "    precision = tp / (tp + fp)\n",
    "    return precision\n",
    "\n",
    "def recall(cls_pred, cls_gt, threshold):\n",
    "    tp, fp, fn = tp_fp_fn(cls_pred, cls_gt, threshold)\n",
    "    recall = tp / (tp + fn)\n",
    "    return recall\n",
    "\n",
    "def bezier_line_diff(cls_pred, cls_gt, threshold):\n",
    "    diff = (cls_pred - cls_gt)\n",
    "    return diff\n",
    "    \n",
    "    \n",
    "#tp_fp_fn(cls_pred, cls_gt, threshold)\n",
    "#precision(cls_pred, cls_gt, threshold)\n",
    "#recall(cls_pred, cls_gt, threshold)"
   ]
  },
  {
   "cell_type": "code",
   "execution_count": 347,
   "metadata": {},
   "outputs": [
    {
     "name": "stdout",
     "output_type": "stream",
     "text": [
      "[[[[1]\n",
      "   [2]\n",
      "   [3]\n",
      "   [4]]]] [[[1 2 3 4]]]\n",
      "[[[14  6  6 14]]]\n"
     ]
    },
    {
     "ename": "IndexError",
     "evalue": "too many indices for array: array is 3-dimensional, but 4 were indexed",
     "output_type": "error",
     "traceback": [
      "\u001b[0;31m---------------------------------------------------------------------------\u001b[0m",
      "\u001b[0;31mIndexError\u001b[0m                                Traceback (most recent call last)",
      "\u001b[0;32m<ipython-input-347-c11ad47ab74c>\u001b[0m in \u001b[0;36m<module>\u001b[0;34m\u001b[0m\n\u001b[1;32m      6\u001b[0m \u001b[0mprint\u001b[0m\u001b[0;34m(\u001b[0m\u001b[0mdiff\u001b[0m\u001b[0;34m)\u001b[0m\u001b[0;34m\u001b[0m\u001b[0;34m\u001b[0m\u001b[0m\n\u001b[1;32m      7\u001b[0m diff = np.minimum(\n\u001b[0;32m----> 8\u001b[0;31m         \u001b[0mdiff\u001b[0m\u001b[0;34m[\u001b[0m\u001b[0;34m:\u001b[0m\u001b[0;34m,\u001b[0m \u001b[0;34m:\u001b[0m\u001b[0;34m,\u001b[0m \u001b[0;36m0\u001b[0m\u001b[0;34m,\u001b[0m \u001b[0;36m0\u001b[0m\u001b[0;34m]\u001b[0m \u001b[0;34m+\u001b[0m \u001b[0mdiff\u001b[0m\u001b[0;34m[\u001b[0m\u001b[0;34m:\u001b[0m\u001b[0;34m,\u001b[0m \u001b[0;34m:\u001b[0m\u001b[0;34m,\u001b[0m \u001b[0;36m1\u001b[0m\u001b[0;34m,\u001b[0m \u001b[0;36m1\u001b[0m\u001b[0;34m]\u001b[0m\u001b[0;34m,\u001b[0m \u001b[0mdiff\u001b[0m\u001b[0;34m[\u001b[0m\u001b[0;34m:\u001b[0m\u001b[0;34m,\u001b[0m \u001b[0;34m:\u001b[0m\u001b[0;34m,\u001b[0m \u001b[0;36m0\u001b[0m\u001b[0;34m,\u001b[0m \u001b[0;36m1\u001b[0m\u001b[0;34m]\u001b[0m \u001b[0;34m+\u001b[0m \u001b[0mdiff\u001b[0m\u001b[0;34m[\u001b[0m\u001b[0;34m:\u001b[0m\u001b[0;34m,\u001b[0m \u001b[0;34m:\u001b[0m\u001b[0;34m,\u001b[0m \u001b[0;36m1\u001b[0m\u001b[0;34m,\u001b[0m \u001b[0;36m0\u001b[0m\u001b[0;34m]\u001b[0m\u001b[0;34m\u001b[0m\u001b[0;34m\u001b[0m\u001b[0m\n\u001b[0m\u001b[1;32m      9\u001b[0m     )\n",
      "\u001b[0;31mIndexError\u001b[0m: too many indices for array: array is 3-dimensional, but 4 were indexed"
     ]
    }
   ],
   "source": [
    "a = np.array([[1,2,3,4]])\n",
    "x1 = a[:, None, :, None]\n",
    "x2 = a[:, None]\n",
    "print(x1,x2)\n",
    "diff = ((x1-x2)**2).sum(-1)\n",
    "print(diff)\n",
    "diff = np.minimum(\n",
    "        diff[:, :, 0, 0] + diff[:, :, 1, 1], diff[:, :, 0, 1] + diff[:, :, 1, 0]\n",
    "    )"
   ]
  }
 ],
 "metadata": {
  "accelerator": "GPU",
  "colab": {
   "collapsed_sections": [],
   "include_colab_link": true,
   "name": "index2.ipynb",
   "provenance": []
  },
  "kernelspec": {
   "display_name": "Python 3",
   "language": "python",
   "name": "python3"
  },
  "language_info": {
   "codemirror_mode": {
    "name": "ipython",
    "version": 3
   },
   "file_extension": ".py",
   "mimetype": "text/x-python",
   "name": "python",
   "nbconvert_exporter": "python",
   "pygments_lexer": "ipython3",
   "version": "3.8.8"
  }
 },
 "nbformat": 4,
 "nbformat_minor": 4
}
