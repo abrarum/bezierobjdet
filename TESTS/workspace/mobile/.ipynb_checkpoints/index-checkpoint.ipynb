{
 "cells": [
  {
   "cell_type": "code",
   "execution_count": 1,
   "metadata": {},
   "outputs": [
    {
     "name": "stdout",
     "output_type": "stream",
     "text": [
      "Using TensorFlow version 2.4.1\n"
     ]
    }
   ],
   "source": [
    "%matplotlib inline\n",
    "\n",
    "import os\n",
    "os.environ[\"CUDA_VISIBLE_DEVICES\"]=\"3\"\n",
    "\n",
    "import tensorflow as tf\n",
    "from tensorflow import keras\n",
    "import numpy as np\n",
    "from numpy.random import rand, randint\n",
    "import matplotlib.pyplot as plt\n",
    "import os\n",
    "import fnmatch\n",
    "import pandas as pd\n",
    "import bezier\n",
    "\n",
    "from matplotlib.backends.backend_agg import FigureCanvasAgg\n",
    "from matplotlib.figure import Figure\n",
    "\n",
    "from PIL import Image, ImageDraw\n",
    "from tensorflow.keras.layers import Input, Dense, Flatten, Conv2D, MaxPool2D, BatchNormalization, Dropout\n",
    "\n",
    "print('Using TensorFlow version', tf.__version__)"
   ]
  },
  {
   "cell_type": "code",
   "execution_count": 2,
   "metadata": {},
   "outputs": [
    {
     "data": {
      "image/png": "[encoded data removed]",
      "text/plain": [
       "<Figure size 648x648 with 9 Axes>"
      ]
     },
     "metadata": {},
     "output_type": "display_data"
    }
   ],
   "source": [
    "plt.figure(figsize=(9, 9))\n",
    "\n",
    "image_root = './images/train/'\n",
    "image_labels = ['line']\n",
    "\n",
    "total_files = fnmatch.filter(os.listdir(image_root), '*.png')\n",
    "df=pd.read_csv('./images/train.csv', sep=',',header=0)\n",
    "\n",
    "def image_read(fn):\n",
    "    link = os.path.join(image_root, fn)\n",
    "    image = Image.open(link).convert('RGB')\n",
    "    im = np.asarray(image)\n",
    "    #print(im.shape)\n",
    "    return im\n",
    "    \n",
    "def getInfo(idx):\n",
    "    image = image_read(df.filename[idx])\n",
    "    class_id = 0 #df.class[idx]\n",
    "    xmin = df.xmin[idx]\n",
    "    xmax = df.xmax[idx]\n",
    "    ymin = df.ymin[idx]\n",
    "    ymax = df.ymax[idx]\n",
    "    return image, class_id, [xmin, ymin], [xmax, ymax]\n",
    "\n",
    "def generate_bezier(x, y):\n",
    "    nr = np.asarray(x, y)\n",
    "    curve = bezier.Curve(nr, degree=1)\n",
    "    \n",
    "    return curve\n",
    "\n",
    "def gen_plots():\n",
    "    for i in range(9):\n",
    "        rand_idx = randint(0, len(total_files))\n",
    "        image, class_id, x, y = getInfo(rand_idx)\n",
    "        ax = plt.subplot(3, 3, i+1)\n",
    "        \n",
    "        l1 = ax.imshow(image, extent=[0, 144, 0, 144])\n",
    "        l1.set_label(\"\")\n",
    "        \n",
    "        # Create bezier curve or plot a line\n",
    "        '''\n",
    "        curve = generate_bezier(x, y)\n",
    "        g_truth = curve.plot(num_pts=256, color=\"r\", ax=ax)\n",
    "        g_truth.lines[-1].set_label('prediction var 1')\n",
    "        g_truth.lines[-1].set_linestyle('dotted')\n",
    "        g_truth.lines[-1].set_marker('+')\n",
    "        g_truth.lines[-1].set_markersize(2)\n",
    "        '''\n",
    "        \n",
    "        ax.plot(x, y, 'r+', linestyle='dotted', label='prediction')\n",
    "        \n",
    "        lines, labels = ax.get_legend_handles_labels()\n",
    "        plt.legend( lines, labels, loc = 'best', bbox_to_anchor = (0,-0.1,1,1),\n",
    "                    bbox_transform = plt.gcf().transFigure )\n",
    "        \n",
    "        plt.xlabel(image_labels[0])\n",
    "        plt.xticks([])\n",
    "        plt.yticks([])\n",
    "\n",
    "gen_plots()"
   ]
  },
  {
   "cell_type": "markdown",
   "metadata": {},
   "source": [
    "# PLOT LINE"
   ]
  },
  {
   "cell_type": "code",
   "execution_count": 3,
   "metadata": {},
   "outputs": [],
   "source": [
    "def tester():\n",
    "    rand_idx = randint(0, len(total_files))\n",
    "    image, class_id, x, y = getInfo(rand_idx)\n",
    "    return image\n",
    "\n",
    "def plot_line(image, pred_coords=[], norm=False):\n",
    "\n",
    "  figo = Figure(figsize=(2, 2))\n",
    "\n",
    "  canvas = FigureCanvasAgg(figo)\n",
    "\n",
    "  # plot\n",
    "  ax_r = figo.add_subplot()\n",
    "  if norm:\n",
    "        image *= 255.\n",
    "        image = image.astype(np.uint8)\n",
    "  ax_r.imshow(image, extent=[0,144,0,144])\n",
    "\n",
    "  if len(pred_coords) == 2:\n",
    "      x, y = pred_coords\n",
    "      #print(x, y)\n",
    "      xmin = x[0]\n",
    "      xmax = x[1]\n",
    "      ymin = y[0]\n",
    "      ymax = y[1]\n",
    "      ax_r.plot([xmin, xmax], [ymin, ymax], 'r+', linestyle='dotted', label='prediction')\n",
    "    \n",
    "  ax_r.set_axis_off()\n",
    "  '''\n",
    "  ax_r = plt.subplot()\n",
    "  if norm:\n",
    "        image *= 255.\n",
    "        image = image.astype(np.uint8)\n",
    "  ax_r.imshow(image, extent=[0,144,0,144])\n",
    "\n",
    "  if len(pred_coords) == 2:\n",
    "      x, y = pred_coords\n",
    "      #print(x, y)\n",
    "      xmin = x[0]\n",
    "      xmax = x[1]\n",
    "      ymin = y[0]\n",
    "      ymax = y[1]\n",
    "      ax_r.plot([xmin, xmax], [ymin, ymax], 'r+', linestyle='dotted', label='prediction')\n",
    "  \n",
    "  '''\n",
    "  canvas.draw()\n",
    "  \n",
    "  buf = canvas.buffer_rgba()\n",
    "  # ... convert to a NumPy array ...\n",
    "  X = np.asarray(buf)\n",
    "  # ... and pass it to PIL.\n",
    "  im = Image.fromarray(X)\n",
    "  \n",
    "  return im"
   ]
  },
  {
   "cell_type": "code",
   "execution_count": 4,
   "metadata": {},
   "outputs": [
    {
     "data": {
      "image/png": "[encoded data removed]",
      "text/plain": [
       "<Figure size 432x288 with 1 Axes>"
      ]
     },
     "metadata": {
      "needs_background": "light"
     },
     "output_type": "display_data"
    }
   ],
   "source": [
    "rand_idx = randint(0, len(total_files))\n",
    "image, class_id, x, y = getInfo(rand_idx)\n",
    "image = plot_line(image, pred_coords=[x, y])\n",
    "plt.imshow(image)\n",
    "plt.title(\"line\")\n",
    "plt.show()"
   ]
  },
  {
   "cell_type": "markdown",
   "metadata": {},
   "source": [
    "# DATA GEN"
   ]
  },
  {
   "cell_type": "code",
   "execution_count": 5,
   "metadata": {},
   "outputs": [],
   "source": [
    "#shape 144x144\n",
    "batch_size = len(total_files)\n",
    "def data_generator(batch_size=batch_size):\n",
    "  while True:\n",
    "    x_batch = np.zeros((batch_size, 144, 144, 3))\n",
    "    y_batch = np.zeros((batch_size, 1))\n",
    "    bline_batch = np.zeros((batch_size, 4))\n",
    "\n",
    "    for i in range(0, batch_size):\n",
    "      rand_idx = randint(0, len(total_files))\n",
    "      image, class_id, x, y = getInfo(rand_idx)\n",
    "      x_batch[i] = image / 255.\n",
    "      y_batch[i, class_id] = 1.0\n",
    "      bline_batch[i] = np.array([x[0], x[1], y[0], y[1]])\n",
    "    yield ({'image': x_batch}, {'class_out': y_batch, 'box_out': bline_batch})"
   ]
  },
  {
   "cell_type": "code",
   "execution_count": 6,
   "metadata": {},
   "outputs": [
    {
     "data": {
      "image/png": "[encoded data removed]",
      "text/plain": [
       "<Figure size 432x288 with 1 Axes>"
      ]
     },
     "metadata": {
      "needs_background": "light"
     },
     "output_type": "display_data"
    }
   ],
   "source": [
    "index = 0\n",
    "example, label = next(data_generator(1))\n",
    "image = example['image'][index]\n",
    "class_id = np.argmax(label['class_out'][index])\n",
    "pred_coords = label['box_out'][index]\n",
    "\n",
    "x = [pred_coords[0], pred_coords[1]]\n",
    "y = [pred_coords[2], pred_coords[3]]\n",
    "\n",
    "image = plot_line(image, pred_coords=[x, y], norm=True)\n",
    "\n",
    "plt.imshow(image)\n",
    "plt.title('line')\n",
    "plt.show()"
   ]
  },
  {
   "cell_type": "markdown",
   "metadata": {},
   "source": [
    "# MODEL"
   ]
  },
  {
   "cell_type": "code",
   "execution_count": 7,
   "metadata": {},
   "outputs": [
    {
     "name": "stdout",
     "output_type": "stream",
     "text": [
      "WARNING:tensorflow:`input_shape` is undefined or non-square, or `rows` is not in [128, 160, 192, 224]. Weights for input shape (224, 224) will be loaded as the default.\n",
      "Model: \"model\"\n",
      "__________________________________________________________________________________________________\n",
      "Layer (type)                    Output Shape         Param #     Connected to                     \n",
      "==================================================================================================\n",
      "image (InputLayer)              [(None, 144, 144, 3) 0                                            \n",
      "__________________________________________________________________________________________________\n",
      "mobilenet_1.00_224 (Functional) (None, 1024)         3228864     image[0][0]                      \n",
      "__________________________________________________________________________________________________\n",
      "class_out (Dense)               (None, 1)            1025        mobilenet_1.00_224[0][0]         \n",
      "__________________________________________________________________________________________________\n",
      "box_out (Dense)                 (None, 4)            4100        mobilenet_1.00_224[0][0]         \n",
      "==================================================================================================\n",
      "Total params: 3,233,989\n",
      "Trainable params: 3,212,101\n",
      "Non-trainable params: 21,888\n",
      "__________________________________________________________________________________________________\n"
     ]
    }
   ],
   "source": [
    "def model1():\n",
    "    input_ = Input(shape=(144, 144, 3), name='image')\n",
    "\n",
    "    x = input_\n",
    "\n",
    "    for i in range(0, 5):\n",
    "      n_filters = 2**(4 + i)\n",
    "      x = Conv2D(n_filters, 3, activation='relu')(x)\n",
    "      x = BatchNormalization()(x)\n",
    "      x = MaxPool2D(2)(x)\n",
    "\n",
    "    x = Flatten()(x)\n",
    "    x = Dense(256, activation='relu')(x)\n",
    "\n",
    "    class_out = Dense(1, activation='softmax', name='class_out')(x)\n",
    "    box_out = Dense(4, name='box_out')(x)\n",
    "\n",
    "    model = tf.keras.models.Model(input_, [class_out, box_out])\n",
    "\n",
    "    return model\n",
    "    \n",
    "def model2():\n",
    "    h = w = 144\n",
    "    \n",
    "    backbone         = keras.applications.MobileNet(include_top=False, pooling='avg')\n",
    "    classification_layer = keras.layers.Dense(1, activation='softmax', name='class_out')\n",
    "    regression_layer = keras.layers.Dense(4, name='box_out')\n",
    "\n",
    "    x = x0   = keras.Input(shape=(144,144,3), name='image')\n",
    "    x        = backbone(x)\n",
    "    x1        = classification_layer(x)\n",
    "    x2        = regression_layer(x)\n",
    "    model    = keras.Model(inputs=x0, outputs=[x1, x2])\n",
    "    \n",
    "    return model\n",
    "    \n",
    "model = model2()\n",
    "model.summary()"
   ]
  },
  {
   "cell_type": "code",
   "execution_count": 8,
   "metadata": {},
   "outputs": [],
   "source": [
    "class IoU(tf.keras.metrics.Metric):\n",
    "  def __init__(self, **kwargs):\n",
    "    super(IoU, self).__init__(**kwargs)\n",
    "\n",
    "    self.iou = self.add_weight(name='iou', initializer='zeros')\n",
    "    self.total_iou = self.add_weight(name='total_iou', initializer='zeros')\n",
    "    self.num_ex = self.add_weight(name='num_ex', initializer='zeros')\n",
    "  \n",
    "  def update_state(self, y_true, y_pred, sample_weight=None):\n",
    "    def get_box(y):\n",
    "      rows, cols = y[:, 0], y[:, 1]\n",
    "      rows, cols = rows * 144, cols * 144\n",
    "      y1, y2 = rows, rows + 52\n",
    "      x1, x2 = cols, cols + 52\n",
    "      return x1, y1, x2, y2\n",
    "    \n",
    "    def get_area(x1, y1, x2, y2):\n",
    "      return tf.math.abs(x2 - x1) * tf.math.abs(y2 - y1)\n",
    "    \n",
    "    gt_x1, gt_y1, gt_x2, gt_y2 = get_box(y_true)\n",
    "    p_x1, p_y1, p_x2, p_y2 = get_box(y_pred)\n",
    "\n",
    "    i_x1 = tf.maximum(gt_x1, p_x1)\n",
    "    i_y1 = tf.maximum(gt_y1, p_y1)\n",
    "    i_x2 = tf.minimum(gt_x2, p_x2)\n",
    "    i_y2 = tf.minimum(gt_y2, p_y2)\n",
    "\n",
    "    i_area = get_area(i_x1, i_y1, i_x2, i_y2)\n",
    "    u_area = get_area(gt_x1, gt_y1, gt_x2, gt_y2) + get_area(p_x1, p_y1, p_x2, p_y2) - i_area\n",
    "\n",
    "    iou = tf.math.divide(i_area, u_area)\n",
    "    self.num_ex.assign_add(1)\n",
    "    self.total_iou.assign_add(tf.reduce_mean(iou))\n",
    "    self.iou = tf.math.divide(self.total_iou, self.num_ex)\n",
    "  \n",
    "  def result(self):\n",
    "    return self.iou\n",
    "  \n",
    "  def reset_state(self):\n",
    "    self.iou = self.add_weight(name='iou', initializer='zeros')\n",
    "    self.total_iou = self.add_weight(name='total_iou', initializer='zeros')\n",
    "    self.num_ex = self.add_weight(name='num_ex', initializer='zeros')\n"
   ]
  },
  {
   "cell_type": "code",
   "execution_count": 9,
   "metadata": {},
   "outputs": [],
   "source": [
    "model.compile(\n",
    "    loss={\n",
    "        'class_out': 'categorical_crossentropy',\n",
    "        'box_out': 'mse'\n",
    "    },\n",
    "    optimizer=tf.keras.optimizers.Adam(learning_rate=1e-3),\n",
    "    metrics={\n",
    "        'class_out': 'accuracy',\n",
    "        'box_out': IoU(name='iou')\n",
    "    }\n",
    ")"
   ]
  },
  {
   "cell_type": "code",
   "execution_count": 10,
   "metadata": {},
   "outputs": [],
   "source": [
    "def test_model(model, test_datagen):\n",
    "  example, label = next(test_datagen)\n",
    "  x = example['image']\n",
    "  y = label['class_out']\n",
    "  box = label['box_out'][0]   \n",
    "\n",
    "  pred_y, pred_box = model.predict(x)\n",
    "\n",
    "  pred_coords = pred_box[0]\n",
    "  xc = [pred_coords[0], pred_coords[1]]\n",
    "  yc = [pred_coords[2], pred_coords[3]]\n",
    "\n",
    "  #print(xc, yc)\n",
    "\n",
    "  pred_class = np.argmax(pred_y[0])\n",
    "  image = x[0]\n",
    "\n",
    "  gt = \"line\"\n",
    "  pred_class_name = \"line\"\n",
    "  \n",
    "  box = [[box[0], box[1]], [box[2], box[3]]]\n",
    "\n",
    "  image = plot_line(image, pred_coords=[xc, yc], norm=True)\n",
    "  color = 'green' if gt == pred_class_name else 'red'\n",
    "\n",
    "  plt.imshow(image)\n",
    "  #plt.show()\n",
    "  plt.xlabel(f'Pred: {pred_class_name}', color=color)\n",
    "  plt.ylabel(f'GT: {gt}', color=color)\n",
    "  plt.xticks([])\n",
    "  plt.yticks([])"
   ]
  },
  {
   "cell_type": "code",
   "execution_count": 11,
   "metadata": {},
   "outputs": [],
   "source": [
    "def test(model):\n",
    "  test_datagen = data_generator(1)\n",
    "  plt.figure(figsize=(16, 4))\n",
    "\n",
    "  for i in range(0, 6):\n",
    "    plt.subplot(1, 6, i + 1)\n",
    "    test_model(model, test_datagen)\n",
    "  plt.show()"
   ]
  },
  {
   "cell_type": "code",
   "execution_count": 12,
   "metadata": {
    "scrolled": true
   },
   "outputs": [
    {
     "data": {
      "image/png": "[encoded data removed]",
      "text/plain": [
       "<Figure size 1152x288 with 6 Axes>"
      ]
     },
     "metadata": {},
     "output_type": "display_data"
    }
   ],
   "source": [
    "test(model)"
   ]
  },
  {
   "cell_type": "code",
   "execution_count": 13,
   "metadata": {},
   "outputs": [],
   "source": [
    "class ShowTestImages(tf.keras.callbacks.Callback):\n",
    "  def on_epoch_end(self, epoch, logs=None):\n",
    "    test(self.model)"
   ]
  },
  {
   "cell_type": "markdown",
   "metadata": {},
   "source": [
    "# Model Training"
   ]
  },
  {
   "cell_type": "code",
   "execution_count": 14,
   "metadata": {},
   "outputs": [
    {
     "name": "stdout",
     "output_type": "stream",
     "text": [
      "Epoch 1/50\n",
      "WARNING:tensorflow:AutoGraph could not transform <bound method IoU.update_state of <__main__.IoU object at 0x7fb0242d4f70>> and will run it as-is.\n",
      "Please report this to the TensorFlow team. When filing the bug, set the verbosity to 10 (on Linux, `export AUTOGRAPH_VERBOSITY=10`) and attach the full output.\n",
      "Cause: module 'gast' has no attribute 'Index'\n",
      "To silence this warning, decorate the function with @tf.autograph.experimental.do_not_convert\n",
      "WARNING: AutoGraph could not transform <bound method IoU.update_state of <__main__.IoU object at 0x7fb0242d4f70>> and will run it as-is.\n",
      "Please report this to the TensorFlow team. When filing the bug, set the verbosity to 10 (on Linux, `export AUTOGRAPH_VERBOSITY=10`) and attach the full output.\n",
      "Cause: module 'gast' has no attribute 'Index'\n",
      "To silence this warning, decorate the function with @tf.autograph.experimental.do_not_convert\n"
     ]
    },
    {
     "ename": "ResourceExhaustedError",
     "evalue": " OOM when allocating tensor with shape[512] and type float on /job:localhost/replica:0/task:0/device:GPU:0 by allocator GPU_0_bfc\n\t [[node model/mobilenet_1.00_224/conv_dw_9_bn/FusedBatchNormV3 (defined at <ipython-input-14-a1debb88fa61>:7) ]]\nHint: If you want to see a list of allocated tensors when OOM happens, add report_tensor_allocations_upon_oom to RunOptions for current allocation info.\n [Op:__inference_train_function_7428]\n\nFunction call stack:\ntrain_function\n",
     "output_type": "error",
     "traceback": [
      "\u001b[0;31m---------------------------------------------------------------------------\u001b[0m",
      "\u001b[0;31mResourceExhaustedError\u001b[0m                    Traceback (most recent call last)",
      "\u001b[0;32m<ipython-input-14-a1debb88fa61>\u001b[0m in \u001b[0;36m<module>\u001b[0;34m\u001b[0m\n\u001b[1;32m      5\u001b[0m \u001b[0;34m\u001b[0m\u001b[0m\n\u001b[1;32m      6\u001b[0m \u001b[0;34m\u001b[0m\u001b[0m\n\u001b[0;32m----> 7\u001b[0;31m _ = model.fit(\n\u001b[0m\u001b[1;32m      8\u001b[0m     \u001b[0mdata_generator\u001b[0m\u001b[0;34m(\u001b[0m\u001b[0;34m)\u001b[0m\u001b[0;34m,\u001b[0m\u001b[0;34m\u001b[0m\u001b[0;34m\u001b[0m\u001b[0m\n\u001b[1;32m      9\u001b[0m     \u001b[0mepochs\u001b[0m\u001b[0;34m=\u001b[0m\u001b[0;36m50\u001b[0m\u001b[0;34m,\u001b[0m\u001b[0;34m\u001b[0m\u001b[0;34m\u001b[0m\u001b[0m\n",
      "\u001b[0;32m~/Abrar/miniconda3/envs/tf-gpu/lib/python3.8/site-packages/tensorflow/python/keras/engine/training.py\u001b[0m in \u001b[0;36mfit\u001b[0;34m(self, x, y, batch_size, epochs, verbose, callbacks, validation_split, validation_data, shuffle, class_weight, sample_weight, initial_epoch, steps_per_epoch, validation_steps, validation_batch_size, validation_freq, max_queue_size, workers, use_multiprocessing)\u001b[0m\n\u001b[1;32m   1098\u001b[0m                 _r=1):\n\u001b[1;32m   1099\u001b[0m               \u001b[0mcallbacks\u001b[0m\u001b[0;34m.\u001b[0m\u001b[0mon_train_batch_begin\u001b[0m\u001b[0;34m(\u001b[0m\u001b[0mstep\u001b[0m\u001b[0;34m)\u001b[0m\u001b[0;34m\u001b[0m\u001b[0;34m\u001b[0m\u001b[0m\n\u001b[0;32m-> 1100\u001b[0;31m               \u001b[0mtmp_logs\u001b[0m \u001b[0;34m=\u001b[0m \u001b[0mself\u001b[0m\u001b[0;34m.\u001b[0m\u001b[0mtrain_function\u001b[0m\u001b[0;34m(\u001b[0m\u001b[0miterator\u001b[0m\u001b[0;34m)\u001b[0m\u001b[0;34m\u001b[0m\u001b[0;34m\u001b[0m\u001b[0m\n\u001b[0m\u001b[1;32m   1101\u001b[0m               \u001b[0;32mif\u001b[0m \u001b[0mdata_handler\u001b[0m\u001b[0;34m.\u001b[0m\u001b[0mshould_sync\u001b[0m\u001b[0;34m:\u001b[0m\u001b[0;34m\u001b[0m\u001b[0;34m\u001b[0m\u001b[0m\n\u001b[1;32m   1102\u001b[0m                 \u001b[0mcontext\u001b[0m\u001b[0;34m.\u001b[0m\u001b[0masync_wait\u001b[0m\u001b[0;34m(\u001b[0m\u001b[0;34m)\u001b[0m\u001b[0;34m\u001b[0m\u001b[0;34m\u001b[0m\u001b[0m\n",
      "\u001b[0;32m~/Abrar/miniconda3/envs/tf-gpu/lib/python3.8/site-packages/tensorflow/python/eager/def_function.py\u001b[0m in \u001b[0;36m__call__\u001b[0;34m(self, *args, **kwds)\u001b[0m\n\u001b[1;32m    826\u001b[0m     \u001b[0mtracing_count\u001b[0m \u001b[0;34m=\u001b[0m \u001b[0mself\u001b[0m\u001b[0;34m.\u001b[0m\u001b[0mexperimental_get_tracing_count\u001b[0m\u001b[0;34m(\u001b[0m\u001b[0;34m)\u001b[0m\u001b[0;34m\u001b[0m\u001b[0;34m\u001b[0m\u001b[0m\n\u001b[1;32m    827\u001b[0m     \u001b[0;32mwith\u001b[0m \u001b[0mtrace\u001b[0m\u001b[0;34m.\u001b[0m\u001b[0mTrace\u001b[0m\u001b[0;34m(\u001b[0m\u001b[0mself\u001b[0m\u001b[0;34m.\u001b[0m\u001b[0m_name\u001b[0m\u001b[0;34m)\u001b[0m \u001b[0;32mas\u001b[0m \u001b[0mtm\u001b[0m\u001b[0;34m:\u001b[0m\u001b[0;34m\u001b[0m\u001b[0;34m\u001b[0m\u001b[0m\n\u001b[0;32m--> 828\u001b[0;31m       \u001b[0mresult\u001b[0m \u001b[0;34m=\u001b[0m \u001b[0mself\u001b[0m\u001b[0;34m.\u001b[0m\u001b[0m_call\u001b[0m\u001b[0;34m(\u001b[0m\u001b[0;34m*\u001b[0m\u001b[0margs\u001b[0m\u001b[0;34m,\u001b[0m \u001b[0;34m**\u001b[0m\u001b[0mkwds\u001b[0m\u001b[0;34m)\u001b[0m\u001b[0;34m\u001b[0m\u001b[0;34m\u001b[0m\u001b[0m\n\u001b[0m\u001b[1;32m    829\u001b[0m       \u001b[0mcompiler\u001b[0m \u001b[0;34m=\u001b[0m \u001b[0;34m\"xla\"\u001b[0m \u001b[0;32mif\u001b[0m \u001b[0mself\u001b[0m\u001b[0;34m.\u001b[0m\u001b[0m_experimental_compile\u001b[0m \u001b[0;32melse\u001b[0m \u001b[0;34m\"nonXla\"\u001b[0m\u001b[0;34m\u001b[0m\u001b[0;34m\u001b[0m\u001b[0m\n\u001b[1;32m    830\u001b[0m       \u001b[0mnew_tracing_count\u001b[0m \u001b[0;34m=\u001b[0m \u001b[0mself\u001b[0m\u001b[0;34m.\u001b[0m\u001b[0mexperimental_get_tracing_count\u001b[0m\u001b[0;34m(\u001b[0m\u001b[0;34m)\u001b[0m\u001b[0;34m\u001b[0m\u001b[0;34m\u001b[0m\u001b[0m\n",
      "\u001b[0;32m~/Abrar/miniconda3/envs/tf-gpu/lib/python3.8/site-packages/tensorflow/python/eager/def_function.py\u001b[0m in \u001b[0;36m_call\u001b[0;34m(self, *args, **kwds)\u001b[0m\n\u001b[1;32m    886\u001b[0m         \u001b[0;31m# Lifting succeeded, so variables are initialized and we can run the\u001b[0m\u001b[0;34m\u001b[0m\u001b[0;34m\u001b[0m\u001b[0;34m\u001b[0m\u001b[0m\n\u001b[1;32m    887\u001b[0m         \u001b[0;31m# stateless function.\u001b[0m\u001b[0;34m\u001b[0m\u001b[0;34m\u001b[0m\u001b[0;34m\u001b[0m\u001b[0m\n\u001b[0;32m--> 888\u001b[0;31m         \u001b[0;32mreturn\u001b[0m \u001b[0mself\u001b[0m\u001b[0;34m.\u001b[0m\u001b[0m_stateless_fn\u001b[0m\u001b[0;34m(\u001b[0m\u001b[0;34m*\u001b[0m\u001b[0margs\u001b[0m\u001b[0;34m,\u001b[0m \u001b[0;34m**\u001b[0m\u001b[0mkwds\u001b[0m\u001b[0;34m)\u001b[0m\u001b[0;34m\u001b[0m\u001b[0;34m\u001b[0m\u001b[0m\n\u001b[0m\u001b[1;32m    889\u001b[0m     \u001b[0;32melse\u001b[0m\u001b[0;34m:\u001b[0m\u001b[0;34m\u001b[0m\u001b[0;34m\u001b[0m\u001b[0m\n\u001b[1;32m    890\u001b[0m       \u001b[0m_\u001b[0m\u001b[0;34m,\u001b[0m \u001b[0m_\u001b[0m\u001b[0;34m,\u001b[0m \u001b[0m_\u001b[0m\u001b[0;34m,\u001b[0m \u001b[0mfiltered_flat_args\u001b[0m \u001b[0;34m=\u001b[0m\u001b[0;31m \u001b[0m\u001b[0;31m\\\u001b[0m\u001b[0;34m\u001b[0m\u001b[0;34m\u001b[0m\u001b[0m\n",
      "\u001b[0;32m~/Abrar/miniconda3/envs/tf-gpu/lib/python3.8/site-packages/tensorflow/python/eager/function.py\u001b[0m in \u001b[0;36m__call__\u001b[0;34m(self, *args, **kwargs)\u001b[0m\n\u001b[1;32m   2940\u001b[0m       (graph_function,\n\u001b[1;32m   2941\u001b[0m        filtered_flat_args) = self._maybe_define_function(args, kwargs)\n\u001b[0;32m-> 2942\u001b[0;31m     return graph_function._call_flat(\n\u001b[0m\u001b[1;32m   2943\u001b[0m         filtered_flat_args, captured_inputs=graph_function.captured_inputs)  # pylint: disable=protected-access\n\u001b[1;32m   2944\u001b[0m \u001b[0;34m\u001b[0m\u001b[0m\n",
      "\u001b[0;32m~/Abrar/miniconda3/envs/tf-gpu/lib/python3.8/site-packages/tensorflow/python/eager/function.py\u001b[0m in \u001b[0;36m_call_flat\u001b[0;34m(self, args, captured_inputs, cancellation_manager)\u001b[0m\n\u001b[1;32m   1916\u001b[0m         and executing_eagerly):\n\u001b[1;32m   1917\u001b[0m       \u001b[0;31m# No tape is watching; skip to running the function.\u001b[0m\u001b[0;34m\u001b[0m\u001b[0;34m\u001b[0m\u001b[0;34m\u001b[0m\u001b[0m\n\u001b[0;32m-> 1918\u001b[0;31m       return self._build_call_outputs(self._inference_function.call(\n\u001b[0m\u001b[1;32m   1919\u001b[0m           ctx, args, cancellation_manager=cancellation_manager))\n\u001b[1;32m   1920\u001b[0m     forward_backward = self._select_forward_and_backward_functions(\n",
      "\u001b[0;32m~/Abrar/miniconda3/envs/tf-gpu/lib/python3.8/site-packages/tensorflow/python/eager/function.py\u001b[0m in \u001b[0;36mcall\u001b[0;34m(self, ctx, args, cancellation_manager)\u001b[0m\n\u001b[1;32m    553\u001b[0m       \u001b[0;32mwith\u001b[0m \u001b[0m_InterpolateFunctionError\u001b[0m\u001b[0;34m(\u001b[0m\u001b[0mself\u001b[0m\u001b[0;34m)\u001b[0m\u001b[0;34m:\u001b[0m\u001b[0;34m\u001b[0m\u001b[0;34m\u001b[0m\u001b[0m\n\u001b[1;32m    554\u001b[0m         \u001b[0;32mif\u001b[0m \u001b[0mcancellation_manager\u001b[0m \u001b[0;32mis\u001b[0m \u001b[0;32mNone\u001b[0m\u001b[0;34m:\u001b[0m\u001b[0;34m\u001b[0m\u001b[0;34m\u001b[0m\u001b[0m\n\u001b[0;32m--> 555\u001b[0;31m           outputs = execute.execute(\n\u001b[0m\u001b[1;32m    556\u001b[0m               \u001b[0mstr\u001b[0m\u001b[0;34m(\u001b[0m\u001b[0mself\u001b[0m\u001b[0;34m.\u001b[0m\u001b[0msignature\u001b[0m\u001b[0;34m.\u001b[0m\u001b[0mname\u001b[0m\u001b[0;34m)\u001b[0m\u001b[0;34m,\u001b[0m\u001b[0;34m\u001b[0m\u001b[0;34m\u001b[0m\u001b[0m\n\u001b[1;32m    557\u001b[0m               \u001b[0mnum_outputs\u001b[0m\u001b[0;34m=\u001b[0m\u001b[0mself\u001b[0m\u001b[0;34m.\u001b[0m\u001b[0m_num_outputs\u001b[0m\u001b[0;34m,\u001b[0m\u001b[0;34m\u001b[0m\u001b[0;34m\u001b[0m\u001b[0m\n",
      "\u001b[0;32m~/Abrar/miniconda3/envs/tf-gpu/lib/python3.8/site-packages/tensorflow/python/eager/execute.py\u001b[0m in \u001b[0;36mquick_execute\u001b[0;34m(op_name, num_outputs, inputs, attrs, ctx, name)\u001b[0m\n\u001b[1;32m     57\u001b[0m   \u001b[0;32mtry\u001b[0m\u001b[0;34m:\u001b[0m\u001b[0;34m\u001b[0m\u001b[0;34m\u001b[0m\u001b[0m\n\u001b[1;32m     58\u001b[0m     \u001b[0mctx\u001b[0m\u001b[0;34m.\u001b[0m\u001b[0mensure_initialized\u001b[0m\u001b[0;34m(\u001b[0m\u001b[0;34m)\u001b[0m\u001b[0;34m\u001b[0m\u001b[0;34m\u001b[0m\u001b[0m\n\u001b[0;32m---> 59\u001b[0;31m     tensors = pywrap_tfe.TFE_Py_Execute(ctx._handle, device_name, op_name,\n\u001b[0m\u001b[1;32m     60\u001b[0m                                         inputs, attrs, num_outputs)\n\u001b[1;32m     61\u001b[0m   \u001b[0;32mexcept\u001b[0m \u001b[0mcore\u001b[0m\u001b[0;34m.\u001b[0m\u001b[0m_NotOkStatusException\u001b[0m \u001b[0;32mas\u001b[0m \u001b[0me\u001b[0m\u001b[0;34m:\u001b[0m\u001b[0;34m\u001b[0m\u001b[0;34m\u001b[0m\u001b[0m\n",
      "\u001b[0;31mResourceExhaustedError\u001b[0m:  OOM when allocating tensor with shape[512] and type float on /job:localhost/replica:0/task:0/device:GPU:0 by allocator GPU_0_bfc\n\t [[node model/mobilenet_1.00_224/conv_dw_9_bn/FusedBatchNormV3 (defined at <ipython-input-14-a1debb88fa61>:7) ]]\nHint: If you want to see a list of allocated tensors when OOM happens, add report_tensor_allocations_upon_oom to RunOptions for current allocation info.\n [Op:__inference_train_function_7428]\n\nFunction call stack:\ntrain_function\n"
     ]
    }
   ],
   "source": [
    "def lr_schedule(epoch, lr):\n",
    "  if (epoch + 1) % 5 == 0:\n",
    "    lr *= 0.2\n",
    "  return max(lr, 3e-7)\n",
    "\n",
    "\n",
    "_ = model.fit(\n",
    "    data_generator(),\n",
    "    epochs=50,\n",
    "    steps_per_epoch=500,\n",
    "    callbacks=[\n",
    "               ShowTestImages(),\n",
    "               tf.keras.callbacks.EarlyStopping(monitor='box_out_iou', patience=3, mode='max'),\n",
    "               tf.keras.callbacks.LearningRateScheduler(lr_schedule)\n",
    "    ]\n",
    ")"
   ]
  }
 ],
 "metadata": {
  "accelerator": "GPU",
  "colab": {
   "collapsed_sections": [],
   "name": "Copy of Object Localization with TensorFlow - Starter.ipynb",
   "provenance": []
  },
  "kernelspec": {
   "display_name": "Python 3",
   "language": "python",
   "name": "python3"
  },
  "language_info": {
   "codemirror_mode": {
    "name": "ipython",
    "version": 3
   },
   "file_extension": ".py",
   "mimetype": "text/x-python",
   "name": "python",
   "nbconvert_exporter": "python",
   "pygments_lexer": "ipython3",
   "version": "3.8.8"
  }
 },
 "nbformat": 4,
 "nbformat_minor": 1
}
