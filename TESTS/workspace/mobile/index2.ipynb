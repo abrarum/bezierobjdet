{
 "cells": [
  {
   "cell_type": "markdown",
   "metadata": {
    "colab_type": "text",
    "id": "view-in-github"
   },
   "source": [
    "<a href=\"https://colab.research.google.com/github/abrarum/bezierobjdet/blob/main/TESTS/workspace/mobile/index2.ipynb\" target=\"_parent\"><img src=\"https://colab.research.google.com/assets/colab-badge.svg\" alt=\"Open In Colab\"/></a>"
   ]
  },
  {
   "cell_type": "code",
   "execution_count": 1,
   "metadata": {
    "colab": {
     "base_uri": "https://localhost:8080/"
    },
    "id": "i1ePNLrUgtab",
    "outputId": "2c43c0ab-df22-4401-986d-2aab13351e04"
   },
   "outputs": [
    {
     "name": "stdout",
     "output_type": "stream",
     "text": [
      "Using TensorFlow version 2.4.1\n"
     ]
    }
   ],
   "source": [
    "%matplotlib inline\n",
    "#%reset -f\n",
    "\n",
    "import os\n",
    "os.environ[\"CUDA_VISIBLE_DEVICES\"]=\"0\"\n",
    "#!pip install bezier\n",
    "import bezier\n",
    "#!pip uninstall matplotlib\n",
    "#!pip install matplotlib\n",
    "import tensorflow as tf\n",
    "from tensorflow import keras\n",
    "\n",
    "import math\n",
    "\n",
    "import numpy as np\n",
    "from numpy.random import rand, randint\n",
    "import matplotlib.pyplot as plt\n",
    "import os\n",
    "import fnmatch\n",
    "import pandas as pd\n",
    "\n",
    "from matplotlib.backends.backend_agg import FigureCanvasAgg\n",
    "from matplotlib.figure import Figure\n",
    "#import matplotlib\n",
    "#print('matplotlib: {}'.format(matplotlib.__version__))\n",
    "\n",
    "from PIL import Image, ImageDraw\n",
    "from keras.models import Model\n",
    "from tensorflow.keras.layers import Input, Dense, LeakyReLU, UpSampling2D, ZeroPadding2D, Flatten, Conv1D, Conv2D, Conv3D, MaxPool2D, MaxPooling2D, GlobalAveragePooling2D, BatchNormalization, Dropout, Activation\n",
    "from keras.layers.merge import add, concatenate\n",
    "\n",
    "print('Using TensorFlow version', tf.__version__)"
   ]
  },
  {
   "cell_type": "code",
   "execution_count": 2,
   "metadata": {
    "colab": {
     "base_uri": "https://localhost:8080/"
    },
    "id": "9EU6mCrugtai",
    "outputId": "270e5730-6079-4c87-88f2-514dc78ce138"
   },
   "outputs": [],
   "source": [
    "image_width = image_height = 600\n",
    "gridcell = 18\n",
    "li_output_size = 4\n",
    "\n",
    "# Make it False for non-COLAB env\n",
    "COLAB = False\n",
    "\n",
    "colab_base_url = '/content/drive/MyDrive/bezierobj/bezierobjdet/TESTS/workspace/mobile/'\n",
    "\n",
    "image_root = './images/multi_lines/train/' if COLAB == False else colab_base_url+'images/multi_lines/train'\n",
    "image_labels = ['line']\n",
    "\n",
    "total_files = fnmatch.filter(os.listdir(image_root), '*.png')\n",
    "#print(len(total_files))\n",
    "\n",
    "csv_path =  './images/multi_lines/train.csv' if COLAB == False else colab_base_url+'images/multi_lines/train.csv'\n",
    "df=pd.read_csv(csv_path, sep=',',header=0)\n",
    "\n",
    "def image_read(fn):\n",
    "    ''' read file_name, converts it in to RGB and return an image array '''\n",
    "    link = os.path.join(image_root, fn)\n",
    "    image = Image.open(link).convert('RGB')\n",
    "    im = np.asarray(image)\n",
    "    return im\n",
    "\n",
    "def getInfo(fn):\n",
    "    ''' returns image, gtruth pixels (gridcell x gridcell x 1) and coordinates (gridcell x gricell x 4) '''\n",
    "    image = image_read(fn+\".png\")\n",
    "    \n",
    "    rows = np.where(df.filename==fn)\n",
    "    \n",
    "    class_id = df[\"class\"][rows[0][0]]\n",
    "    coords = []\n",
    "    \n",
    "    for i in rows[0]:\n",
    "        c_id = []\n",
    "        c_coord = []\n",
    "        \n",
    "        c_coord.append(df.x_0[i])\n",
    "        c_coord.append(df.x_1[i])\n",
    "        #c_coord.append(df.x_2[i])\n",
    "        \n",
    "        #the Y coordinate axis in the annotations starts at bottom\n",
    "        #inverting\n",
    "        c_coord.append(image_height - df.y_0[i])\n",
    "        c_coord.append(image_height - df.y_1[i])\n",
    "        #c_coord.append(image_height - df.y_2[i])\n",
    "        \n",
    "        coords.append(c_coord)\n",
    "        c_id = []\n",
    "        \n",
    "    return image, class_id, coords\n",
    "\n",
    "#getInfo(\"li_1658\")"
   ]
  },
  {
   "cell_type": "markdown",
   "metadata": {
    "id": "MtxWtU0zgtak"
   },
   "source": [
    "# PLOT LINE"
   ]
  },
  {
   "cell_type": "code",
   "execution_count": 3,
   "metadata": {
    "id": "-mUlgw7Ggtak"
   },
   "outputs": [],
   "source": [
    "def degree_calc(coord):\n",
    "    ''' calculates degree used by curve.plot --- should be 1 less than the no. of nodes in the coord '''\n",
    "    nonzero_count = np.count_nonzero(coord)\n",
    "    degree = nonzero_count-1\n",
    "    return degree\n",
    "\n",
    "def plot_line(image, pred_coords, norm=False):\n",
    "    ''' create a canvas image on an axis incorp. image and coordinates into 1. '''\n",
    "    \n",
    "    figo = Figure(figsize=(8.334, 8.334))\n",
    "\n",
    "    canvas = FigureCanvasAgg(figo)\n",
    "\n",
    "    # plot\n",
    "    #ax_r = figo.add_subplot()\n",
    "    _, ax = plt.subplots()\n",
    "    \n",
    "    if norm:\n",
    "        image *= 255.\n",
    "        image = image.astype(np.uint8)\n",
    "    ax.imshow(image)\n",
    "    \n",
    "    # creates each line over image\n",
    "    for i in pred_coords:\n",
    "        #x_0, x_1, x_2, y_0, y_1, y_2 = i\n",
    "        x_0, x_1, y_0, y_1 = i\n",
    "        #curve1 = bezier.Curve([[x_0, x_1, x_2], [y_0, y_1, y_2]], degree=2)\n",
    "        curve1 = bezier.Curve([[x_0, x_1], [y_0, y_1]], degree=1)\n",
    "        curve1.plot(num_pts=256, ax=ax, color=\"black\", alpha=2)\n",
    "            \n",
    "    #plt.axis('off')\n",
    "    \n",
    "    canvas.draw()\n",
    "\n",
    "    buf = canvas.buffer_rgba()\n",
    "    # ... convert to a NumPy array ...\n",
    "    X = np.asarray(buf)\n",
    "    \n",
    "    # ... and pass it to PIL.\n",
    "    im = Image.fromarray(X)\n",
    "\n",
    "    return im\n",
    "\n",
    "def randlGen():\n",
    "    ''' random image generator from data file_name '''\n",
    "    rElem = np.random.choice(total_files)\n",
    "    rElem = rElem[0:-4]\n",
    "    #print(rElem)\n",
    "    return rElem"
   ]
  },
  {
   "cell_type": "code",
   "execution_count": 4,
   "metadata": {
    "colab": {
     "base_uri": "https://localhost:8080/",
     "height": 319
    },
    "id": "IPtI6k7Ggtal",
    "outputId": "4aac5516-a64b-4dfe-860e-ac6597bb2d1a"
   },
   "outputs": [
    {
     "data": {
      "image/png": "[encoded data removed]",
      "text/plain": [
       "<Figure size 432x288 with 1 Axes>"
      ]
     },
     "metadata": {
      "needs_background": "light"
     },
     "output_type": "display_data"
    }
   ],
   "source": [
    "# testing getInfo and plot_line\n",
    "image, class_id, pred_coords = getInfo(randlGen())\n",
    "\n",
    "image = plot_line(image, pred_coords, norm=False)\n",
    "plt.imshow(image)\n",
    "plt.title(\"line\")\n",
    "#plt.tight_layout(pad=0)\n",
    "plt.show()"
   ]
  },
  {
   "cell_type": "markdown",
   "metadata": {
    "id": "yiBvHXu1gtal"
   },
   "source": [
    "***"
   ]
  },
  {
   "cell_type": "markdown",
   "metadata": {
    "id": "jHTDYNjHgtal"
   },
   "source": [
    "# Pixel gTruth and Line gTruth"
   ]
  },
  {
   "cell_type": "code",
   "execution_count": 5,
   "metadata": {
    "colab": {
     "base_uri": "https://localhost:8080/",
     "height": 249
    },
    "id": "VzZyP15Lgtam",
    "outputId": "7557f7fe-d657-4fc1-e0f9-05c8e0b2edd9",
    "scrolled": true
   },
   "outputs": [
    {
     "data": {
      "image/png": "[encoded data removed]",
      "text/plain": [
       "<Figure size 864x576 with 3 Axes>"
      ]
     },
     "metadata": {
      "needs_background": "light"
     },
     "output_type": "display_data"
    }
   ],
   "source": [
    "def target_calc(coord):\n",
    "    ''' how far from the mp of line in the gridcell and the other \n",
    "        2 coordinates relative to the whole image and line center\n",
    "        '''\n",
    "    \n",
    "    targets = []\n",
    "    \n",
    "    # ------------- COORD Mapping --------------\n",
    "    \n",
    "    # coord - image_width (used as a base to calculate coord_grid and coord_one)\n",
    "    original_coord = coord\n",
    "    \n",
    "    # coord - gridcell (used to calcute mp_grid)\n",
    "    coord_grid = linear(original_coord, image_width, gridcell)\n",
    "    \n",
    "    # coord - 1x1 (used to calculate relative coords)\n",
    "    coord_one = linear(coord_grid, image_width, 1)\n",
    "    \n",
    "    # ------------ COORD Splitting ----------------\n",
    "    \n",
    "    split_coord_grid  = np.split(coord_grid, len(coord_grid)/2)\n",
    "    \n",
    "    split_coord_one = np.split(coord_one, len(coord_one)/2)\n",
    "    \n",
    "    # ------------- MIDPOINT Mapping --------------\n",
    "    \n",
    "    mp_grid = np.floor(midPoint(split_coord_grid))\n",
    "    \n",
    "    mp_grid_one = linear(mp_grid, gridcell, 1)\n",
    "    \n",
    "    # ------------- relative pts calculation ------\n",
    "    \n",
    "    # calculate targets by subtracting mp values from pairs [[x,x],[y,y]]\n",
    "    for i,k in enumerate(split_coord_one):\n",
    "        temp_t = []\n",
    "        \n",
    "        for j in k:\n",
    "            j = j.item()\n",
    "            temp_t.append(j-mp_grid_one[i][0])\n",
    "        targets.append(temp_t)\n",
    "        \n",
    "    targets = np.concatenate(targets)\n",
    "    \n",
    "    return targets, mp_grid\n",
    "\n",
    "\n",
    "def linear(coord, oldmax, newmax):\n",
    "    '''Converts coordinates from scale `image_height`x`image_width`\n",
    "       to scale `gridcell`x`gridcell` '''\n",
    "    \n",
    "    n_a = []\n",
    "    \n",
    "    for i in coord:\n",
    "        OldValue = i\n",
    "        OldMax = oldmax\n",
    "        OldMin = 0\n",
    "        NewMax = newmax\n",
    "        NewMin = 0\n",
    "        OldRange = (OldMax - OldMin)  \n",
    "        NewRange = (NewMax - NewMin)  \n",
    "        x = (((OldValue - OldMin) * NewRange) / OldRange) + NewMin\n",
    "        n_a.append(x)\n",
    "    \n",
    "    return np.asarray(n_a)\n",
    "\n",
    "def midPoint(p12):\n",
    "    ''' generates mid-points coords of the mapped line/curve '''\n",
    "\n",
    "    # finds the halfway (0.50 - midpoint controlpoint coord) of the curve\n",
    "    curve1 = bezier.Curve(p12, degree=len(p12)-1)\n",
    "    mp = curve1.evaluate(0.50)\n",
    "    \n",
    "    return mp\n",
    "\n",
    "def gtruther(index):\n",
    "    ''' generates truth pixels (Shape = gricell x gricell x 1) and line coordinate truth (gricell x gridcell x 4) '''\n",
    "    image, class_id, coords = getInfo(index)\n",
    "    \n",
    "    # truther shapes\n",
    "    pxTruth = np.zeros((gridcell,gridcell,1))\n",
    "    liTruth = np.zeros((gridcell,gridcell,li_output_size))\n",
    "    \n",
    "    if (class_id == 1):\n",
    "        for i in coords:\n",
    "            \n",
    "            # for each coord in the array, calculate targets\n",
    "            re_targ, mp = target_calc(i)\n",
    "            \n",
    "            # convert to ints\n",
    "            mp = mp.reshape(-1)\n",
    "            x, y = mp.astype(int)\n",
    "            \n",
    "            # allot line gt coords of mp coords to liTruth shape\n",
    "            liTruth[y][x] = re_targ\n",
    "            pxTruth[y][x] = [class_id]\n",
    "\n",
    "    return image, liTruth, pxTruth, class_id\n",
    "    \n",
    "\n",
    "def test_sbs(index):\n",
    "    ''' tests the truth values '''\n",
    "    image, class_id, coords = getInfo(index)\n",
    "    pimg, liTruth, pxTruth, class_id = gtruther(index)\n",
    "    \n",
    "    plt.figure(0, (12,8))\n",
    "    plt.subplot(1, 3, 1)\n",
    "    #plt.tight_layout(pad=0)\n",
    "    plt.imshow(image)\n",
    "    plt.subplot(1, 3, 2)\n",
    "    plt.imshow(pxTruth)\n",
    "    plt.subplot(1, 3, 3)\n",
    "    plt.imshow(liTruth[...,1])\n",
    "    \n",
    "test_sbs(\"li_3406\")"
   ]
  },
  {
   "cell_type": "markdown",
   "metadata": {
    "id": "_yqTwWhtgtan"
   },
   "source": [
    "***\n",
    "# DATA GEN"
   ]
  },
  {
   "cell_type": "code",
   "execution_count": 6,
   "metadata": {
    "id": "ZdFdic-6gtan"
   },
   "outputs": [],
   "source": [
    "batch_size = 32\n",
    "\n",
    "def regression_weight_map(cls_target):\n",
    "    '''Creates a weight map for the regression target.\n",
    "       The weight map is 1.0 where the classification target is not zero.\n",
    "       Shape=(B,H,W)  (no channel dimension as required by the loss functions)'''\n",
    "    return (cls_target[...,0] > 0).astype('float32')\n",
    "\n",
    "def data_generator(batch_size=batch_size):\n",
    "    ''' generates data for the model '''\n",
    "    while True:\n",
    "        x_batch = np.zeros((batch_size, image_height, image_width, 3))\n",
    "        y_batch = np.zeros((batch_size, gridcell, gridcell, 1))\n",
    "        bline_batch   = np.zeros((batch_size, gridcell, gridcell, li_output_size))\n",
    "\n",
    "        for i,j in enumerate(total_files[0:batch_size]):\n",
    "            # random index image and truth values\n",
    "            image, liTruth, pxTruth, class_id = gtruther(randlGen())\n",
    "            \n",
    "            x_batch[i] = image / 255.\n",
    "            y_batch[i] = pxTruth\n",
    "            bline_batch[i] = liTruth\n",
    "            \n",
    "        sample_weight = regression_weight_map(y_batch)\n",
    "        #, {'class_out': sample_weight, 'line_out': sample_weight}\n",
    "        yield ({'image': x_batch}, {'class_out': y_batch, 'line_out': bline_batch}, {'class_out': sample_weight, 'line_out': sample_weight})"
   ]
  },
  {
   "cell_type": "markdown",
   "metadata": {
    "id": "yUER4Ez6gtaq"
   },
   "source": [
    "***\n",
    "# MODEL"
   ]
  },
  {
   "cell_type": "code",
   "execution_count": 7,
   "metadata": {
    "colab": {
     "base_uri": "https://localhost:8080/"
    },
    "id": "LQQy2q6kgtaq",
    "outputId": "b1a649ba-57e5-467f-98ac-b471fe4fbe6c"
   },
   "outputs": [
    {
     "name": "stdout",
     "output_type": "stream",
     "text": [
      "Model: \"model\"\n",
      "__________________________________________________________________________________________________\n",
      "Layer (type)                    Output Shape         Param #     Connected to                     \n",
      "==================================================================================================\n",
      "image (InputLayer)              [(None, 600, 600, 3) 0                                            \n",
      "__________________________________________________________________________________________________\n",
      "conv2d (Conv2D)                 (None, 600, 600, 32) 128         image[0][0]                      \n",
      "__________________________________________________________________________________________________\n",
      "batch_normalization (BatchNorma (None, 600, 600, 32) 128         conv2d[0][0]                     \n",
      "__________________________________________________________________________________________________\n",
      "leaky_re_lu (LeakyReLU)         (None, 600, 600, 32) 0           batch_normalization[0][0]        \n",
      "__________________________________________________________________________________________________\n",
      "max_pooling2d (MaxPooling2D)    (None, 300, 300, 32) 0           leaky_re_lu[0][0]                \n",
      "__________________________________________________________________________________________________\n",
      "conv2d_1 (Conv2D)               (None, 300, 300, 64) 2112        max_pooling2d[0][0]              \n",
      "__________________________________________________________________________________________________\n",
      "batch_normalization_1 (BatchNor (None, 300, 300, 64) 256         conv2d_1[0][0]                   \n",
      "__________________________________________________________________________________________________\n",
      "leaky_re_lu_1 (LeakyReLU)       (None, 300, 300, 64) 0           batch_normalization_1[0][0]      \n",
      "__________________________________________________________________________________________________\n",
      "max_pooling2d_1 (MaxPooling2D)  (None, 150, 150, 64) 0           leaky_re_lu_1[0][0]              \n",
      "__________________________________________________________________________________________________\n",
      "conv2d_2 (Conv2D)               (None, 150, 150, 128 8320        max_pooling2d_1[0][0]            \n",
      "__________________________________________________________________________________________________\n",
      "batch_normalization_2 (BatchNor (None, 150, 150, 128 512         conv2d_2[0][0]                   \n",
      "__________________________________________________________________________________________________\n",
      "leaky_re_lu_2 (LeakyReLU)       (None, 150, 150, 128 0           batch_normalization_2[0][0]      \n",
      "__________________________________________________________________________________________________\n",
      "max_pooling2d_2 (MaxPooling2D)  (None, 75, 75, 128)  0           leaky_re_lu_2[0][0]              \n",
      "__________________________________________________________________________________________________\n",
      "conv2d_3 (Conv2D)               (None, 75, 75, 256)  33024       max_pooling2d_2[0][0]            \n",
      "__________________________________________________________________________________________________\n",
      "batch_normalization_3 (BatchNor (None, 75, 75, 256)  1024        conv2d_3[0][0]                   \n",
      "__________________________________________________________________________________________________\n",
      "leaky_re_lu_3 (LeakyReLU)       (None, 75, 75, 256)  0           batch_normalization_3[0][0]      \n",
      "__________________________________________________________________________________________________\n",
      "max_pooling2d_3 (MaxPooling2D)  (None, 37, 37, 256)  0           leaky_re_lu_3[0][0]              \n",
      "__________________________________________________________________________________________________\n",
      "conv2d_4 (Conv2D)               (None, 37, 37, 512)  131584      max_pooling2d_3[0][0]            \n",
      "__________________________________________________________________________________________________\n",
      "batch_normalization_4 (BatchNor (None, 37, 37, 512)  2048        conv2d_4[0][0]                   \n",
      "__________________________________________________________________________________________________\n",
      "leaky_re_lu_4 (LeakyReLU)       (None, 37, 37, 512)  0           batch_normalization_4[0][0]      \n",
      "__________________________________________________________________________________________________\n",
      "max_pooling2d_4 (MaxPooling2D)  (None, 18, 18, 512)  0           leaky_re_lu_4[0][0]              \n",
      "__________________________________________________________________________________________________\n",
      "dropout (Dropout)               (None, 18, 18, 512)  0           max_pooling2d_4[0][0]            \n",
      "__________________________________________________________________________________________________\n",
      "class_out (Conv2D)              (None, 18, 18, 1)    513         dropout[0][0]                    \n",
      "__________________________________________________________________________________________________\n",
      "line_out (Conv2D)               (None, 18, 18, 4)    2052        dropout[0][0]                    \n",
      "==================================================================================================\n",
      "Total params: 181,701\n",
      "Trainable params: 179,717\n",
      "Non-trainable params: 1,984\n",
      "__________________________________________________________________________________________________\n"
     ]
    }
   ],
   "source": [
    "def modelTester():\n",
    "    '''' model '''\n",
    "    input_ = Input(shape=(image_height, image_width, 3), name='image')\n",
    "\n",
    "    x = input_\n",
    "\n",
    "    for i in range(0, 5):\n",
    "          n_filters = 2**(5 + i)\n",
    "          x = Conv2D(n_filters, 1, activation='relu')(x)\n",
    "          x = BatchNormalization()(x)\n",
    "          x = LeakyReLU()(x)\n",
    "          x = MaxPool2D(2)(x)\n",
    "\n",
    "        \n",
    "    \n",
    "    x = Dropout(0.50)(x)\n",
    "    x1 = Conv2D(1, (1,1), name=\"class_out\")(x)\n",
    "    x2 = Conv2D(li_output_size, (1,1), name=\"line_out\")(x)\n",
    "    \n",
    "    model = tf.keras.models.Model(input_, [x1,x2])\n",
    "    model.summary()\n",
    "    return model\n",
    "    \n",
    "model = modelTester()"
   ]
  },
  {
   "cell_type": "code",
   "execution_count": 8,
   "metadata": {
    "id": "0z5zFgO7gtar"
   },
   "outputs": [],
   "source": [
    "model.compile(\n",
    "    loss={\n",
    "        #from_logits=True if class_out has no activation function\n",
    "        #from_logits=False if class_out has sigmoid activation\n",
    "        'class_out': keras.losses.BinaryCrossentropy(from_logits=True),\n",
    "        'line_out': 'mse'\n",
    "    },\n",
    "    loss_weights={ 'class_out':1.0, 'line_out':1e-5 },\n",
    "    optimizer=tf.keras.optimizers.Adam(learning_rate=0.0001),\n",
    "    metrics={\n",
    "        'class_out': 'accuracy',\n",
    "        'line_out': [tf.keras.metrics.MeanAbsoluteError()]\n",
    "    },\n",
    ")"
   ]
  },
  {
   "cell_type": "code",
   "execution_count": 9,
   "metadata": {},
   "outputs": [],
   "source": [
    "def relative_to_lines(pred_coord, mp):\n",
    "    '''\n",
    "        Strategy:\n",
    "        \n",
    "        (X) Pixel range -- pred_coord => (1 x 1)\n",
    "                        --         mp => (gridcell x gridcell)\n",
    "        (X) Execution:\n",
    "                        1. For each mp (filtered class truth), calculate mp's new pixel range (1 x 1)\n",
    "                        2. Add each individual mp and coordinates value with corresponding axes\n",
    "                        3. convert the resulting coordinates to 'gridcell x gridcell'\n",
    "    '''\n",
    "    #print(mp)\n",
    "    \n",
    "    new_coord = []\n",
    "    \n",
    "    for i in mp:\n",
    "        # switch mp position - [y,x] to [x,y]\n",
    "        y, x = i\n",
    "        \n",
    "        #print(\"mp\", mp)\n",
    "        \n",
    "        rel_coords = pred_coord[y][x]\n",
    "        \n",
    "        #mp = [p/gridcell for p in i]\n",
    "        mp = linear(i, gridcell, 1)\n",
    "        \n",
    "        #print(\"mp\", mp)\n",
    "        #print(\"rel_coords\", rel_coords)\n",
    "        \n",
    "        temp = []\n",
    "        \n",
    "        for i,l in enumerate(rel_coords):\n",
    "            \n",
    "            if(i < len(rel_coords)/2):\n",
    "                temp.append(l+mp[0])\n",
    "            else:\n",
    "                temp.append(l+mp[1])\n",
    "        \n",
    "        #print(\"temp_old\", temp)\n",
    "        \n",
    "        temp = [i*image_width for i in temp]\n",
    "        \n",
    "        #print(\"temp_new\", temp)\n",
    "        \n",
    "        new_coord.append(temp)        \n",
    "    \n",
    "    #print(new_coord)\n",
    "    return new_coord\n",
    "    \n",
    "def non_maximum_suppression(class_id):\n",
    "    ap = tf.nn.max_pool2d(class_id, 3, strides=3, padding=\"SAME\")\n",
    "    #print(\"ap\", ap[0])\n",
    "    #mask = (class_id == ap).float().clamp(min=0.0)\n",
    "    #return class_id * mask\n",
    "    \n",
    "    return ap\n",
    "\n",
    "#test(model)"
   ]
  },
  {
   "cell_type": "code",
   "execution_count": 10,
   "metadata": {
    "id": "YszcEyOvgtar"
   },
   "outputs": [],
   "source": [
    "def test_model(model, test_datagen):\n",
    "    ''' tests model by taking a value from the generator, predicts the value and plot the lines '''\n",
    "    \n",
    "    # data gen\n",
    "    example, label, _ = next(test_datagen)\n",
    "\n",
    "    # extracting image and class_id from data gen\n",
    "    image = example['image']\n",
    "    class_id = label['class_out']\n",
    "\n",
    "    # truthy 'ground' pixel count (1s) / line count in the image\n",
    "    gtcount = np.count_nonzero(class_id[0])\n",
    "    \n",
    "    # predicted classes and lines\n",
    "    pred_class, pred_line = model.predict(image)\n",
    "    \n",
    "    #print(\"pred_class\", pred_class)\n",
    "    \n",
    "    # sigmoid (to remove -ve values and align them b.w 0 and 1)\n",
    "    sigmoided_clas = tf.keras.activations.sigmoid(pred_class)\n",
    "    sigmoided_line = tf.keras.activations.sigmoid(pred_line)\n",
    "    \n",
    "    #print(\"sigmoided\", sigmoided)\n",
    "\n",
    "    # filter out by initial threshold\n",
    "    filtered_indices = [(i[0],i[1]) for i in np.argwhere(sigmoided_clas[0] > 0.2)]\n",
    "    \n",
    "    # truthy 'predicted' line count (1s) / line count in the image\n",
    "    pred_count = len(filtered_indices)\n",
    "    \n",
    "    # relative coordinates to actual line formation\n",
    "    pred_coords = relative_to_lines(sigmoided_line[0], filtered_indices)\n",
    "    \n",
    "    # axes assignment\n",
    "    gt = 0 if gtcount < 1 else 1\n",
    "    pred_class_name = 0 if pred_count < 1 else 1\n",
    "    \n",
    "    # plot line\n",
    "    image = plot_line(image[0], pred_coords)\n",
    "\n",
    "    plt.imshow(image)\n",
    "    # plot config\n",
    "    \n",
    "    color = 'green' if gt == pred_class_name else 'red'\n",
    "    plt.xlabel(f'Pred: {pred_class_name}', color=color)\n",
    "    plt.ylabel(f'GT: {gt}', color=color)\n",
    "    plt.xticks([])\n",
    "    plt.yticks([])\n",
    "    "
   ]
  },
  {
   "cell_type": "code",
   "execution_count": 11,
   "metadata": {
    "id": "PRG8GXxGgtas"
   },
   "outputs": [],
   "source": [
    "def test(model):\n",
    "    ''' conducting test '''\n",
    "    test_datagen = data_generator(1)\n",
    "\n",
    "    plt.figure(figsize=(16, 4))\n",
    "\n",
    "    for i in range(0, 6):\n",
    "        #plt.subplot(1, 6, i + 1)\n",
    "        test_model(model, test_datagen)\n",
    "    #plt.show()\n",
    "  "
   ]
  },
  {
   "cell_type": "code",
   "execution_count": 12,
   "metadata": {
    "colab": {
     "base_uri": "https://localhost:8080/",
     "height": 172
    },
    "id": "uu6j1qpEgtas",
    "outputId": "b16671ab-ac74-4f80-a831-16d87b70f158",
    "scrolled": true
   },
   "outputs": [
    {
     "data": {
      "text/plain": [
       "<Figure size 1152x288 with 0 Axes>"
      ]
     },
     "metadata": {},
     "output_type": "display_data"
    },
    {
     "data": {
      "image/png": "[encoded data removed]",
      "text/plain": [
       "<Figure size 432x288 with 1 Axes>"
      ]
     },
     "metadata": {},
     "output_type": "display_data"
    },
    {
     "data": {
      "image/png": "[encoded data removed]",
      "text/plain": [
       "<Figure size 432x288 with 1 Axes>"
      ]
     },
     "metadata": {},
     "output_type": "display_data"
    },
    {
     "data": {
      "image/png": "[encoded data removed]",
      "text/plain": [
       "<Figure size 432x288 with 1 Axes>"
      ]
     },
     "metadata": {},
     "output_type": "display_data"
    },
    {
     "data": {
      "image/png": "[encoded data removed]",
      "text/plain": [
       "<Figure size 432x288 with 1 Axes>"
      ]
     },
     "metadata": {},
     "output_type": "display_data"
    },
    {
     "data": {
      "image/png": "[encoded data removed]",
      "text/plain": [
       "<Figure size 432x288 with 1 Axes>"
      ]
     },
     "metadata": {},
     "output_type": "display_data"
    },
    {
     "data": {
      "image/png": "[encoded data removed]",
      "text/plain": [
       "<Figure size 432x288 with 1 Axes>"
      ]
     },
     "metadata": {},
     "output_type": "display_data"
    }
   ],
   "source": [
    "test(model)"
   ]
  },
  {
   "cell_type": "code",
   "execution_count": 13,
   "metadata": {
    "id": "OcBxF0Drgtat"
   },
   "outputs": [],
   "source": [
    "class ShowTestImages(tf.keras.callbacks.Callback):\n",
    "  ''' displays test images after each epoch '''\n",
    "  def on_epoch_end(self, epoch, logs=None):\n",
    "    test(self.model)"
   ]
  },
  {
   "cell_type": "markdown",
   "metadata": {
    "id": "2cUF4Ao8gtat"
   },
   "source": [
    "# Model Training"
   ]
  },
  {
   "cell_type": "code",
   "execution_count": 14,
   "metadata": {
    "colab": {
     "base_uri": "https://localhost:8080/",
     "height": 1000
    },
    "id": "pJS0sImxgtat",
    "outputId": "e9e74ed2-6701-4673-ffe4-1b661a3de2e1",
    "scrolled": true
   },
   "outputs": [
    {
     "name": "stdout",
     "output_type": "stream",
     "text": [
      "Epoch 1/10\n",
      "WARNING:tensorflow:multiprocessing can interact badly with TensorFlow, causing nondeterministic deadlocks. For high performance data pipelines tf.data is recommended.\n"
     ]
    },
    {
     "ename": "ResourceExhaustedError",
     "evalue": " OOM when allocating tensor with shape[32,128,150,150] and type float on /job:localhost/replica:0/task:0/device:GPU:0 by allocator GPU_0_bfc\n\t [[node model/conv2d_2/Conv2D (defined at <ipython-input-14-cb76d0c3ec11>:7) ]]\nHint: If you want to see a list of allocated tensors when OOM happens, add report_tensor_allocations_upon_oom to RunOptions for current allocation info.\n [Op:__inference_train_function_80412]\n\nFunction call stack:\ntrain_function\n",
     "output_type": "error",
     "traceback": [
      "\u001b[0;31m---------------------------------------------------------------------------\u001b[0m",
      "\u001b[0;31mResourceExhaustedError\u001b[0m                    Traceback (most recent call last)",
      "\u001b[0;32m<ipython-input-14-cb76d0c3ec11>\u001b[0m in \u001b[0;36m<module>\u001b[0;34m\u001b[0m\n\u001b[1;32m      5\u001b[0m \u001b[0;34m\u001b[0m\u001b[0m\n\u001b[1;32m      6\u001b[0m \u001b[0;34m\u001b[0m\u001b[0m\n\u001b[0;32m----> 7\u001b[0;31m _ = model.fit(\n\u001b[0m\u001b[1;32m      8\u001b[0m     \u001b[0mdata_generator\u001b[0m\u001b[0;34m(\u001b[0m\u001b[0mbatch_size\u001b[0m\u001b[0;34m=\u001b[0m\u001b[0;36m32\u001b[0m\u001b[0;34m)\u001b[0m\u001b[0;34m,\u001b[0m\u001b[0;34m\u001b[0m\u001b[0;34m\u001b[0m\u001b[0m\n\u001b[1;32m      9\u001b[0m     \u001b[0muse_multiprocessing\u001b[0m\u001b[0;34m=\u001b[0m\u001b[0;32mTrue\u001b[0m\u001b[0;34m,\u001b[0m\u001b[0;34m\u001b[0m\u001b[0;34m\u001b[0m\u001b[0m\n",
      "\u001b[0;32m~/Abrar/miniconda3/envs/tf-gpu/lib/python3.8/site-packages/tensorflow/python/keras/engine/training.py\u001b[0m in \u001b[0;36mfit\u001b[0;34m(self, x, y, batch_size, epochs, verbose, callbacks, validation_split, validation_data, shuffle, class_weight, sample_weight, initial_epoch, steps_per_epoch, validation_steps, validation_batch_size, validation_freq, max_queue_size, workers, use_multiprocessing)\u001b[0m\n\u001b[1;32m   1098\u001b[0m                 _r=1):\n\u001b[1;32m   1099\u001b[0m               \u001b[0mcallbacks\u001b[0m\u001b[0;34m.\u001b[0m\u001b[0mon_train_batch_begin\u001b[0m\u001b[0;34m(\u001b[0m\u001b[0mstep\u001b[0m\u001b[0;34m)\u001b[0m\u001b[0;34m\u001b[0m\u001b[0;34m\u001b[0m\u001b[0m\n\u001b[0;32m-> 1100\u001b[0;31m               \u001b[0mtmp_logs\u001b[0m \u001b[0;34m=\u001b[0m \u001b[0mself\u001b[0m\u001b[0;34m.\u001b[0m\u001b[0mtrain_function\u001b[0m\u001b[0;34m(\u001b[0m\u001b[0miterator\u001b[0m\u001b[0;34m)\u001b[0m\u001b[0;34m\u001b[0m\u001b[0;34m\u001b[0m\u001b[0m\n\u001b[0m\u001b[1;32m   1101\u001b[0m               \u001b[0;32mif\u001b[0m \u001b[0mdata_handler\u001b[0m\u001b[0;34m.\u001b[0m\u001b[0mshould_sync\u001b[0m\u001b[0;34m:\u001b[0m\u001b[0;34m\u001b[0m\u001b[0;34m\u001b[0m\u001b[0m\n\u001b[1;32m   1102\u001b[0m                 \u001b[0mcontext\u001b[0m\u001b[0;34m.\u001b[0m\u001b[0masync_wait\u001b[0m\u001b[0;34m(\u001b[0m\u001b[0;34m)\u001b[0m\u001b[0;34m\u001b[0m\u001b[0;34m\u001b[0m\u001b[0m\n",
      "\u001b[0;32m~/Abrar/miniconda3/envs/tf-gpu/lib/python3.8/site-packages/tensorflow/python/eager/def_function.py\u001b[0m in \u001b[0;36m__call__\u001b[0;34m(self, *args, **kwds)\u001b[0m\n\u001b[1;32m    826\u001b[0m     \u001b[0mtracing_count\u001b[0m \u001b[0;34m=\u001b[0m \u001b[0mself\u001b[0m\u001b[0;34m.\u001b[0m\u001b[0mexperimental_get_tracing_count\u001b[0m\u001b[0;34m(\u001b[0m\u001b[0;34m)\u001b[0m\u001b[0;34m\u001b[0m\u001b[0;34m\u001b[0m\u001b[0m\n\u001b[1;32m    827\u001b[0m     \u001b[0;32mwith\u001b[0m \u001b[0mtrace\u001b[0m\u001b[0;34m.\u001b[0m\u001b[0mTrace\u001b[0m\u001b[0;34m(\u001b[0m\u001b[0mself\u001b[0m\u001b[0;34m.\u001b[0m\u001b[0m_name\u001b[0m\u001b[0;34m)\u001b[0m \u001b[0;32mas\u001b[0m \u001b[0mtm\u001b[0m\u001b[0;34m:\u001b[0m\u001b[0;34m\u001b[0m\u001b[0;34m\u001b[0m\u001b[0m\n\u001b[0;32m--> 828\u001b[0;31m       \u001b[0mresult\u001b[0m \u001b[0;34m=\u001b[0m \u001b[0mself\u001b[0m\u001b[0;34m.\u001b[0m\u001b[0m_call\u001b[0m\u001b[0;34m(\u001b[0m\u001b[0;34m*\u001b[0m\u001b[0margs\u001b[0m\u001b[0;34m,\u001b[0m \u001b[0;34m**\u001b[0m\u001b[0mkwds\u001b[0m\u001b[0;34m)\u001b[0m\u001b[0;34m\u001b[0m\u001b[0;34m\u001b[0m\u001b[0m\n\u001b[0m\u001b[1;32m    829\u001b[0m       \u001b[0mcompiler\u001b[0m \u001b[0;34m=\u001b[0m \u001b[0;34m\"xla\"\u001b[0m \u001b[0;32mif\u001b[0m \u001b[0mself\u001b[0m\u001b[0;34m.\u001b[0m\u001b[0m_experimental_compile\u001b[0m \u001b[0;32melse\u001b[0m \u001b[0;34m\"nonXla\"\u001b[0m\u001b[0;34m\u001b[0m\u001b[0;34m\u001b[0m\u001b[0m\n\u001b[1;32m    830\u001b[0m       \u001b[0mnew_tracing_count\u001b[0m \u001b[0;34m=\u001b[0m \u001b[0mself\u001b[0m\u001b[0;34m.\u001b[0m\u001b[0mexperimental_get_tracing_count\u001b[0m\u001b[0;34m(\u001b[0m\u001b[0;34m)\u001b[0m\u001b[0;34m\u001b[0m\u001b[0;34m\u001b[0m\u001b[0m\n",
      "\u001b[0;32m~/Abrar/miniconda3/envs/tf-gpu/lib/python3.8/site-packages/tensorflow/python/eager/def_function.py\u001b[0m in \u001b[0;36m_call\u001b[0;34m(self, *args, **kwds)\u001b[0m\n\u001b[1;32m    886\u001b[0m         \u001b[0;31m# Lifting succeeded, so variables are initialized and we can run the\u001b[0m\u001b[0;34m\u001b[0m\u001b[0;34m\u001b[0m\u001b[0;34m\u001b[0m\u001b[0m\n\u001b[1;32m    887\u001b[0m         \u001b[0;31m# stateless function.\u001b[0m\u001b[0;34m\u001b[0m\u001b[0;34m\u001b[0m\u001b[0;34m\u001b[0m\u001b[0m\n\u001b[0;32m--> 888\u001b[0;31m         \u001b[0;32mreturn\u001b[0m \u001b[0mself\u001b[0m\u001b[0;34m.\u001b[0m\u001b[0m_stateless_fn\u001b[0m\u001b[0;34m(\u001b[0m\u001b[0;34m*\u001b[0m\u001b[0margs\u001b[0m\u001b[0;34m,\u001b[0m \u001b[0;34m**\u001b[0m\u001b[0mkwds\u001b[0m\u001b[0;34m)\u001b[0m\u001b[0;34m\u001b[0m\u001b[0;34m\u001b[0m\u001b[0m\n\u001b[0m\u001b[1;32m    889\u001b[0m     \u001b[0;32melse\u001b[0m\u001b[0;34m:\u001b[0m\u001b[0;34m\u001b[0m\u001b[0;34m\u001b[0m\u001b[0m\n\u001b[1;32m    890\u001b[0m       \u001b[0m_\u001b[0m\u001b[0;34m,\u001b[0m \u001b[0m_\u001b[0m\u001b[0;34m,\u001b[0m \u001b[0m_\u001b[0m\u001b[0;34m,\u001b[0m \u001b[0mfiltered_flat_args\u001b[0m \u001b[0;34m=\u001b[0m\u001b[0;31m \u001b[0m\u001b[0;31m\\\u001b[0m\u001b[0;34m\u001b[0m\u001b[0;34m\u001b[0m\u001b[0m\n",
      "\u001b[0;32m~/Abrar/miniconda3/envs/tf-gpu/lib/python3.8/site-packages/tensorflow/python/eager/function.py\u001b[0m in \u001b[0;36m__call__\u001b[0;34m(self, *args, **kwargs)\u001b[0m\n\u001b[1;32m   2940\u001b[0m       (graph_function,\n\u001b[1;32m   2941\u001b[0m        filtered_flat_args) = self._maybe_define_function(args, kwargs)\n\u001b[0;32m-> 2942\u001b[0;31m     return graph_function._call_flat(\n\u001b[0m\u001b[1;32m   2943\u001b[0m         filtered_flat_args, captured_inputs=graph_function.captured_inputs)  # pylint: disable=protected-access\n\u001b[1;32m   2944\u001b[0m \u001b[0;34m\u001b[0m\u001b[0m\n",
      "\u001b[0;32m~/Abrar/miniconda3/envs/tf-gpu/lib/python3.8/site-packages/tensorflow/python/eager/function.py\u001b[0m in \u001b[0;36m_call_flat\u001b[0;34m(self, args, captured_inputs, cancellation_manager)\u001b[0m\n\u001b[1;32m   1916\u001b[0m         and executing_eagerly):\n\u001b[1;32m   1917\u001b[0m       \u001b[0;31m# No tape is watching; skip to running the function.\u001b[0m\u001b[0;34m\u001b[0m\u001b[0;34m\u001b[0m\u001b[0;34m\u001b[0m\u001b[0m\n\u001b[0;32m-> 1918\u001b[0;31m       return self._build_call_outputs(self._inference_function.call(\n\u001b[0m\u001b[1;32m   1919\u001b[0m           ctx, args, cancellation_manager=cancellation_manager))\n\u001b[1;32m   1920\u001b[0m     forward_backward = self._select_forward_and_backward_functions(\n",
      "\u001b[0;32m~/Abrar/miniconda3/envs/tf-gpu/lib/python3.8/site-packages/tensorflow/python/eager/function.py\u001b[0m in \u001b[0;36mcall\u001b[0;34m(self, ctx, args, cancellation_manager)\u001b[0m\n\u001b[1;32m    553\u001b[0m       \u001b[0;32mwith\u001b[0m \u001b[0m_InterpolateFunctionError\u001b[0m\u001b[0;34m(\u001b[0m\u001b[0mself\u001b[0m\u001b[0;34m)\u001b[0m\u001b[0;34m:\u001b[0m\u001b[0;34m\u001b[0m\u001b[0;34m\u001b[0m\u001b[0m\n\u001b[1;32m    554\u001b[0m         \u001b[0;32mif\u001b[0m \u001b[0mcancellation_manager\u001b[0m \u001b[0;32mis\u001b[0m \u001b[0;32mNone\u001b[0m\u001b[0;34m:\u001b[0m\u001b[0;34m\u001b[0m\u001b[0;34m\u001b[0m\u001b[0m\n\u001b[0;32m--> 555\u001b[0;31m           outputs = execute.execute(\n\u001b[0m\u001b[1;32m    556\u001b[0m               \u001b[0mstr\u001b[0m\u001b[0;34m(\u001b[0m\u001b[0mself\u001b[0m\u001b[0;34m.\u001b[0m\u001b[0msignature\u001b[0m\u001b[0;34m.\u001b[0m\u001b[0mname\u001b[0m\u001b[0;34m)\u001b[0m\u001b[0;34m,\u001b[0m\u001b[0;34m\u001b[0m\u001b[0;34m\u001b[0m\u001b[0m\n\u001b[1;32m    557\u001b[0m               \u001b[0mnum_outputs\u001b[0m\u001b[0;34m=\u001b[0m\u001b[0mself\u001b[0m\u001b[0;34m.\u001b[0m\u001b[0m_num_outputs\u001b[0m\u001b[0;34m,\u001b[0m\u001b[0;34m\u001b[0m\u001b[0;34m\u001b[0m\u001b[0m\n",
      "\u001b[0;32m~/Abrar/miniconda3/envs/tf-gpu/lib/python3.8/site-packages/tensorflow/python/eager/execute.py\u001b[0m in \u001b[0;36mquick_execute\u001b[0;34m(op_name, num_outputs, inputs, attrs, ctx, name)\u001b[0m\n\u001b[1;32m     57\u001b[0m   \u001b[0;32mtry\u001b[0m\u001b[0;34m:\u001b[0m\u001b[0;34m\u001b[0m\u001b[0;34m\u001b[0m\u001b[0m\n\u001b[1;32m     58\u001b[0m     \u001b[0mctx\u001b[0m\u001b[0;34m.\u001b[0m\u001b[0mensure_initialized\u001b[0m\u001b[0;34m(\u001b[0m\u001b[0;34m)\u001b[0m\u001b[0;34m\u001b[0m\u001b[0;34m\u001b[0m\u001b[0m\n\u001b[0;32m---> 59\u001b[0;31m     tensors = pywrap_tfe.TFE_Py_Execute(ctx._handle, device_name, op_name,\n\u001b[0m\u001b[1;32m     60\u001b[0m                                         inputs, attrs, num_outputs)\n\u001b[1;32m     61\u001b[0m   \u001b[0;32mexcept\u001b[0m \u001b[0mcore\u001b[0m\u001b[0;34m.\u001b[0m\u001b[0m_NotOkStatusException\u001b[0m \u001b[0;32mas\u001b[0m \u001b[0me\u001b[0m\u001b[0;34m:\u001b[0m\u001b[0;34m\u001b[0m\u001b[0;34m\u001b[0m\u001b[0m\n",
      "\u001b[0;31mResourceExhaustedError\u001b[0m:  OOM when allocating tensor with shape[32,128,150,150] and type float on /job:localhost/replica:0/task:0/device:GPU:0 by allocator GPU_0_bfc\n\t [[node model/conv2d_2/Conv2D (defined at <ipython-input-14-cb76d0c3ec11>:7) ]]\nHint: If you want to see a list of allocated tensors when OOM happens, add report_tensor_allocations_upon_oom to RunOptions for current allocation info.\n [Op:__inference_train_function_80412]\n\nFunction call stack:\ntrain_function\n"
     ]
    }
   ],
   "source": [
    "def lr_schedule(epoch, lr):\n",
    "  if (epoch + 1) % 5 == 0:\n",
    "    lr *= 0.2\n",
    "  return max(lr, 3e-7)\n",
    "\n",
    "\n",
    "_ = model.fit(\n",
    "    data_generator(batch_size=32),\n",
    "    use_multiprocessing=True,\n",
    "    workers=24,\n",
    "    epochs=10,\n",
    "    steps_per_epoch=len(total_files) / batch_size,\n",
    "    callbacks=[\n",
    "               #ShowTestImages(),\n",
    "               tf.keras.callbacks.EarlyStopping(monitor='line_out_mean_absolute_error', patience=3, mode='max'),\n",
    "               tf.keras.callbacks.LearningRateScheduler(lr_schedule)\n",
    "    ]\n",
    ")\n",
    "model_path = './custom_models/mul_singleline_model' if COLAB == False else colab_base_url+'my_model_2'\n",
    "model.save(model_path)"
   ]
  },
  {
   "cell_type": "markdown",
   "metadata": {
    "id": "zajI170Agtau"
   },
   "source": [
    "***\n",
    "**Outputs after a few epochs training**"
   ]
  },
  {
   "cell_type": "code",
   "execution_count": null,
   "metadata": {
    "id": "w1dXUMzFgtau"
   },
   "outputs": [],
   "source": [
    "_x,_y,_ = next(iter(data_generator()))\n",
    "_out_cls, _out_reg = model.predict(_x['image'])\n",
    "\n",
    "#for i in _out_cls:\n",
    "#    print(i)\n",
    "\n",
    "#sigmoided_clas = tf.keras.activations.sigmoid(_out_cls)\n",
    "#for i in sigmoided_clas:\n",
    "#    print(i)\n",
    "\n",
    "#print(\"original: \", _out_cls)\n",
    "#sigmoided_clas = tf.keras.activations.sigmoid(_out_cls)\n",
    "#print(\"sigmoided\", sigmoided_clas)"
   ]
  },
  {
   "cell_type": "code",
   "execution_count": null,
   "metadata": {
    "colab": {
     "base_uri": "https://localhost:8080/",
     "height": 921
    },
    "id": "afogBBRcgtau",
    "outputId": "81d5a475-f451-46b4-e8d8-80e804aa6816"
   },
   "outputs": [],
   "source": [
    "i = 1\n",
    "\n",
    "plt.figure(0, (18,18))\n",
    "for i,j in enumerate([3,6,10]):\n",
    "    plt.subplot(3,3,i+1);   plt.imshow(_x['image'][j])\n",
    "    plt.subplot(3,3,i+1+3); plt.imshow(_y['class_out'][j])\n",
    "    plt.subplot(3,3,i+1+6); plt.imshow(_out_cls[j])"
   ]
  }
 ],
 "metadata": {
  "accelerator": "GPU",
  "colab": {
   "collapsed_sections": [],
   "include_colab_link": true,
   "name": "index2.ipynb",
   "provenance": []
  },
  "kernelspec": {
   "display_name": "Python 3",
   "language": "python",
   "name": "python3"
  },
  "language_info": {
   "codemirror_mode": {
    "name": "ipython",
    "version": 3
   },
   "file_extension": ".py",
   "mimetype": "text/x-python",
   "name": "python",
   "nbconvert_exporter": "python",
   "pygments_lexer": "ipython3",
   "version": "3.8.8"
  }
 },
 "nbformat": 4,
 "nbformat_minor": 1
}
