{
 "cells": [
  {
   "cell_type": "code",
   "execution_count": null,
   "id": "cosmetic-angola",
   "metadata": {},
   "outputs": [],
   "source": [
    "#imports\n",
    "\n",
    "import os\n",
    "#restrict gpu usage\n",
    "os.environ[\"CUDA_VISIBLE_DEVICES\"]=\"3\""
   ]
  },
  {
   "cell_type": "code",
   "execution_count": null,
   "id": "angry-channel",
   "metadata": {},
   "outputs": [],
   "source": [
    "# for xml generation\n",
    "import xml.etree.cElementTree as ET"
   ]
  },
  {
   "cell_type": "code",
   "execution_count": null,
   "id": "outer-regular",
   "metadata": {},
   "outputs": [],
   "source": [
    "def xmlgen(foln, fn, path, width, height, xmin, ymin, xmax, ymax):\n",
    "\n",
    "    root = ET.Element(\"annotation\")\n",
    "    folder = ET.SubElement(root, foln, name=\"name\").text = foln\n",
    "    filename = ET.SubElement(root, fn, name=\"name\").text = fn\n",
    "    path = ET.SubElement(root, path, name=\"name\").text = path\n",
    "    source = ET.SubElement(root, \"source\") \n",
    "    \n",
    "    ET.SubElement(source, \"database\", name=\"database\").text = \"unknown\"\n",
    "    \n",
    "    size = ET.SubElement(root, \"size\")\n",
    "\n",
    "    ET.SubElement(size, \"width\", name=\"width\").text = width\n",
    "    ET.SubElement(size, \"height\", name=\"height\").text = height\n",
    "    \n",
    "    segmented = ET.SubElement(root, \"segmented\", name=\"segmented\").text = \"0\"\n",
    "    _object = ET.SubElement(root, \"_object\")\n",
    "    \n",
    "    ET.SubElement(_object, \"name\", name=\"name\").text = fn\n",
    "    ET.SubElement(_object, \"pose\", name=\"pose\").text = \"Unspecified\"\n",
    "    ET.SubElement(_object, \"truncated\", name=\"truncated\").text = \"0\"\n",
    "    ET.SubElement(_object, \"difficult\", name=\"difficult\").text = \"0\"\n",
    "    \n",
    "    bndbox = ET.SubElement(_object, \"bndbox\", name=\"bndbox\")\n",
    "    \n",
    "    ET.SubElement(bndbox, \"xmin\", name=\"name\").text = xmin\n",
    "    ET.SubElement(bndbox, \"ymin\", name=\"name\").text = ymin\n",
    "    ET.SubElement(bndbox, \"xmax\", name=\"name\").text = xmax\n",
    "    ET.SubElement(bndbox, \"ymax\", name=\"name\").text = ymax\n",
    "\n",
    "    tree = ET.ElementTree(root)\n",
    "    tree.write(\"test.xml\")\n",
    "\n",
    "xmlgen()"
   ]
  }
 ],
 "metadata": {
  "kernelspec": {
   "display_name": "Python 3",
   "language": "python",
   "name": "python3"
  },
  "language_info": {
   "codemirror_mode": {
    "name": "ipython",
    "version": 3
   },
   "file_extension": ".py",
   "mimetype": "text/x-python",
   "name": "python",
   "nbconvert_exporter": "python",
   "pygments_lexer": "ipython3",
   "version": "3.7.9"
  }
 },
 "nbformat": 4,
 "nbformat_minor": 5
}
