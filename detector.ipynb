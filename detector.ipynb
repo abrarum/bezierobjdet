{
 "cells": [
  {
   "cell_type": "code",
   "execution_count": 2,
   "id": "finished-fourth",
   "metadata": {},
   "outputs": [],
   "source": [
    "#imports\n",
    "\n",
    "import os\n",
    "#restrict gpu usage\n",
    "os.environ[\"CUDA_VISIBLE_DEVICES\"]=\"3\"\n",
    "\n",
    "from PIL import Image\n",
    "import cv2\n",
    "import bezier\n",
    "import numpy as np\n",
    "import pandas as pd\n",
    "import seaborn as sns\n",
    "import matplotlib\n",
    "import matplotlib.pyplot as plt\n",
    "from matplotlib.pyplot import figure\n",
    "from matplotlib.patches import Rectangle\n",
    "\n",
    "# setting theme\n",
    "px = 1/plt.rcParams['figure.dpi']\n",
    "#sns.set(style=None, rc={'figure.figsize':(256*px, 256*px)})\n",
    "\n",
    "# generate random floating point values\n",
    "from numpy.random import seed, rand, randint\n",
    "from random import gauss\n",
    "\n",
    "import pycocotools"
   ]
  },
  {
   "cell_type": "code",
   "execution_count": null,
   "id": "dressed-apollo",
   "metadata": {},
   "outputs": [],
   "source": []
  }
 ],
 "metadata": {
  "kernelspec": {
   "display_name": "Python 3",
   "language": "python",
   "name": "python3"
  },
  "language_info": {
   "codemirror_mode": {
    "name": "ipython",
    "version": 3
   },
   "file_extension": ".py",
   "mimetype": "text/x-python",
   "name": "python",
   "nbconvert_exporter": "python",
   "pygments_lexer": "ipython3",
   "version": "3.7.9"
  }
 },
 "nbformat": 4,
 "nbformat_minor": 5
}
