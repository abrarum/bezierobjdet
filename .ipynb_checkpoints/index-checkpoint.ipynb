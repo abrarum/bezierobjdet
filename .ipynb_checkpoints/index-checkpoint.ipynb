{
 "cells": [
  {
   "cell_type": "code",
   "execution_count": 1,
   "metadata": {},
   "outputs": [
    {
     "data": {
      "text/plain": [
       "'\\nRelated papers:\\n\\n1.https://openaccess.thecvf.com/content_CVPR_2020/papers/Liu_ABCNet_Real-Time_Scene_Text_Spotting_With_Adaptive_Bezier-Curve_Network_CVPR_2020_paper.pdf\\n2.https://arxiv.org/abs/1901.03781\\n3.Line Segment Detection Using Transformers without Edge [https://arxiv.org/pdf/2101.01909v1.pdf]\\n\\nDataset:\\n(1242 images / 500x500 / ../DATA)\\nhttps://openaccess.thecvf.com/content/ACCV2020/html/Abdelfattah_TTPLA_An_Aerial-Image_Dataset_for_Detection_and_Segmentation_of_Transmission_ACCV_2020_paper.html\\n'"
      ]
     },
     "execution_count": 1,
     "metadata": {},
     "output_type": "execute_result"
    }
   ],
   "source": [
    "'''\n",
    "Related papers:\n",
    "\n",
    "1.https://openaccess.thecvf.com/content_CVPR_2020/papers/Liu_ABCNet_Real-Time_Scene_Text_Spotting_With_Adaptive_Bezier-Curve_Network_CVPR_2020_paper.pdf\n",
    "2.https://arxiv.org/abs/1901.03781\n",
    "3.Line Segment Detection Using Transformers without Edge [https://arxiv.org/pdf/2101.01909v1.pdf]\n",
    "\n",
    "Dataset:\n",
    "(1242 images / 500x500 / ../DATA)\n",
    "https://openaccess.thecvf.com/content/ACCV2020/html/Abdelfattah_TTPLA_An_Aerial-Image_Dataset_for_Detection_and_Segmentation_of_Transmission_ACCV_2020_paper.html\n",
    "'''"
   ]
  },
  {
   "cell_type": "code",
   "execution_count": 2,
   "metadata": {},
   "outputs": [],
   "source": [
    "#imports\n",
    "\n",
    "import os\n",
    "#restrict gpu usage\n",
    "os.environ[\"CUDA_VISIBLE_DEVICES\"]=\"3\"\n",
    "\n",
    "from PIL import Image\n",
    "import cv2\n",
    "import bezier\n",
    "import numpy as np\n",
    "import pandas as pd\n",
    "import seaborn as sns\n",
    "import matplotlib\n",
    "import matplotlib.pyplot as plt\n",
    "from matplotlib.pyplot import figure\n",
    "\n",
    "# setting theme\n",
    "px = 1/plt.rcParams['figure.dpi']\n",
    "#sns.set(style=None, rc={'figure.figsize':(256*px, 256*px)})\n",
    "\n",
    "# generate random floating point values\n",
    "from numpy.random import seed, rand, randint\n",
    "from random import gauss"
   ]
  },
  {
   "cell_type": "code",
   "execution_count": 11,
   "metadata": {},
   "outputs": [
    {
     "data": {
      "text/plain": [
       "'\\nax = curve1.plot(num_pts=256)\\nax.axis(\"off\")\\nax.get_xaxis().set_visible(False)\\nax.get_yaxis().set_visible(False)\\n#ax.figure.savefig(\\'out.png\\', bbox_inches=\\'tight\\', pad_inches=0)\\n'"
      ]
     },
     "execution_count": 11,
     "metadata": {},
     "output_type": "execute_result"
    }
   ],
   "source": [
    "%matplotlib agg\n",
    "\n",
    "#[pixeldata, vectordata, length, label]\n",
    "raw = []\n",
    "\n",
    "def create_dataset():\n",
    "    for _ in range(500):\n",
    "        \n",
    "        cpgen = rand(2, 2)\n",
    "        sizer = randint(2,10,2)\n",
    "        #plt.rcParams[\"figure.figsize\"] = (sizer)\n",
    "\n",
    "        nodes1 = np.asfortranarray(cpgen)\n",
    "        curve1 = bezier.Curve(nodes1, degree=1)\n",
    "        ax = curve1.plot(num_pts=256)\n",
    "        ax.set(xlim=(0, 1), ylim=(0, 1))\n",
    "        ax.set_axis_off()\n",
    "\n",
    "        fig2 = plt.figure()\n",
    "        fig2.axes.append(ax)\n",
    "        \n",
    "        #plt.show()\n",
    "        path = \"./custom/li_{}.jpg\".format(_)\n",
    "        \n",
    "        #save image\n",
    "        ax.figure.savefig(path, dpi=None)\n",
    "        \n",
    "        size = fig2.get_size_inches()*fig2.dpi # size in pixels\n",
    "        w, h = size\n",
    "        #print(size)\n",
    "        #open image\n",
    "        #im = Image.open(path).convert(\"L\")\n",
    "        #width, height = im.size\n",
    "        #pdata = list(im.getdata())\n",
    "        #ndata = np.array(pdata)\n",
    "        #ndata = np.array(pdata).reshape((width, height, 3))\n",
    "        \n",
    "        # Retrieve a view on the renderer buffer\n",
    "        #canvas.draw()\n",
    "        #buf = canvas.buffer_rgba()\n",
    "        # convert to a NumPy array\n",
    "        #X = np.asarray(buf)\n",
    "        #print(\"X is\", X)\n",
    "        #plt.imshow(X)\n",
    "        #print(\"ax\", ax)\n",
    "        #SG_imagedata(curve1)\n",
    "        #print(\"ax.figure\", type(ax.figure))\n",
    "        cap_data = np.array([nodes1, w, h, curve1.length], dtype=\"object\")\n",
    "        raw.append(cap_data)\n",
    "        \n",
    "        plt.close('all')\n",
    "    \n",
    "#create_dataset()\n",
    "'''\n",
    "ax = curve1.plot(num_pts=256)\n",
    "ax.axis(\"off\")\n",
    "ax.get_xaxis().set_visible(False)\n",
    "ax.get_yaxis().set_visible(False)\n",
    "#ax.figure.savefig('out.png', bbox_inches='tight', pad_inches=0)\n",
    "'''\n"
   ]
  },
  {
   "cell_type": "code",
   "execution_count": 15,
   "metadata": {},
   "outputs": [
    {
     "name": "stdout",
     "output_type": "stream",
     "text": [
      "[[0.5502912  0.67054799]\n",
      " [0.12242337 0.10892456]] 640.0 480.0 0.1210120415324922\n",
      "[[0.73924551 0.99989404]\n",
      " [0.27386608 0.4416454 ]] 640.0 480.0 0.30997992781016526\n",
      "[[0.37531773 0.28453239]\n",
      " [0.13970353 0.35987397]] 640.0 480.0 0.23815330885505137\n"
     ]
    },
    {
     "data": {
      "text/plain": [
       "(array([[0.37531773, 0.28453239],\n",
       "        [0.13970353, 0.35987397]]),\n",
       " 640.0,\n",
       " 480.0,\n",
       " 0.23815330885505137)"
      ]
     },
     "execution_count": 15,
     "metadata": {},
     "output_type": "execute_result"
    }
   ],
   "source": [
    "def ind_return(filename):\n",
    "    idx_s = filename.split(\"_\")\n",
    "    idx_n = int(idx_s[1])\n",
    "    \n",
    "    # find idx_n in raw[]\n",
    "    boxes, w, h, length = raw[idx_n]\n",
    "    print(boxes, w, h, length)\n",
    "    return boxes, w, h, length\n",
    "    \n",
    "ind_return(\"li_2\")"
   ]
  },
  {
   "cell_type": "code",
   "execution_count": null,
   "metadata": {},
   "outputs": [],
   "source": []
  }
 ],
 "metadata": {
  "kernelspec": {
   "display_name": "Python 3",
   "language": "python",
   "name": "python3"
  },
  "language_info": {
   "codemirror_mode": {
    "name": "ipython",
    "version": 3
   },
   "file_extension": ".py",
   "mimetype": "text/x-python",
   "name": "python",
   "nbconvert_exporter": "python",
   "pygments_lexer": "ipython3",
   "version": "3.7.9"
  }
 },
 "nbformat": 4,
 "nbformat_minor": 4
}
