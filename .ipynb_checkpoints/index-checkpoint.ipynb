{
 "cells": [
  {
   "cell_type": "code",
   "execution_count": 17,
   "metadata": {},
   "outputs": [
    {
     "data": {
      "text/plain": [
       "'\\nRelated papers:\\n\\nhttps://openaccess.thecvf.com/content_CVPR_2020/papers/Liu_ABCNet_Real-Time_Scene_Text_Spotting_With_Adaptive_Bezier-Curve_Network_CVPR_2020_paper.pdf\\nhttps://arxiv.org/abs/1901.03781\\n\\nDataset:\\n(1242 images / 500x500 / ../DATA)\\nhttps://openaccess.thecvf.com/content/ACCV2020/html/Abdelfattah_TTPLA_An_Aerial-Image_Dataset_for_Detection_and_Segmentation_of_Transmission_ACCV_2020_paper.html\\n'"
      ]
     },
     "execution_count": 17,
     "metadata": {},
     "output_type": "execute_result"
    }
   ],
   "source": [
    "'''\n",
    "Related papers:\n",
    "\n",
    "1.https://openaccess.thecvf.com/content_CVPR_2020/papers/Liu_ABCNet_Real-Time_Scene_Text_Spotting_With_Adaptive_Bezier-Curve_Network_CVPR_2020_paper.pdf\n",
    "2.https://arxiv.org/abs/1901.03781\n",
    "3.Line Segment Detection Using Transformers without Edge [https://arxiv.org/pdf/2101.01909v1.pdf]\n",
    "\n",
    "Dataset:\n",
    "(1242 images / 500x500 / ../DATA)\n",
    "https://openaccess.thecvf.com/content/ACCV2020/html/Abdelfattah_TTPLA_An_Aerial-Image_Dataset_for_Detection_and_Segmentation_of_Transmission_ACCV_2020_paper.html\n",
    "'''"
   ]
  },
  {
   "cell_type": "code",
   "execution_count": 115,
   "metadata": {},
   "outputs": [],
   "source": [
    "#imports\n",
    "\n",
    "import os\n",
    "#restrict gpu usage\n",
    "os.environ[\"CUDA_VISIBLE_DEVICES\"]=\"3\"\n",
    "\n",
    "import cv2\n",
    "import bezier\n",
    "import numpy as np\n",
    "import pandas as pd\n",
    "import seaborn as sns\n",
    "import matplotlib.pyplot as plt\n",
    "from matplotlib.pyplot import figure\n",
    "\n",
    "# setting theme\n",
    "sns.set(style=None, rc={'figure.figsize':(3,3)})\n",
    "\n",
    "# generate random floating point values\n",
    "from numpy.random import seed\n",
    "from numpy.random import rand\n",
    "from random import gauss"
   ]
  },
  {
   "cell_type": "code",
   "execution_count": 124,
   "metadata": {},
   "outputs": [
    {
     "name": "stdout",
     "output_type": "stream",
     "text": [
      "X is [[[255 255 255   0]\n",
      "  [255 255 255   0]\n",
      "  [255 255 255   0]]\n",
      "\n",
      " [[255 255 255   0]\n",
      "  [255 255 255   0]\n",
      "  [255 255 255   0]]\n",
      "\n",
      " [[255 255 255   0]\n",
      "  [255 255 255   0]\n",
      "  [255 255 255   0]]]\n"
     ]
    },
    {
     "data": {
      "text/plain": [
       "'\\nax = curve1.plot(num_pts=256)\\nax.axis(\"off\")\\nax.get_xaxis().set_visible(False)\\nax.get_yaxis().set_visible(False)\\n#ax.figure.savefig(\\'out.png\\', bbox_inches=\\'tight\\', pad_inches=0)\\n'"
      ]
     },
     "execution_count": 124,
     "metadata": {},
     "output_type": "execute_result"
    },
    {
     "data": {
      "image/png": "[encoded data removed]",
      "text/plain": [
       "<Figure size 216x216 with 1 Axes>"
      ]
     },
     "metadata": {
      "needs_background": "light"
     },
     "output_type": "display_data"
    }
   ],
   "source": [
    "\n",
    "# Creating the dataset\n",
    "\n",
    "#[pixeldata, vectordata, length, label]\n",
    "\n",
    "raw = []\n",
    "\n",
    "def SG_imagedata(curve1):\n",
    "    \n",
    "\n",
    "    # Do some plotting here\n",
    "    #curve1 = fig.add_subplot(333)\n",
    "    curve1.plot([8, 2, 3])\n",
    "\n",
    "    # Retrieve a view on the renderer buffer\n",
    "    canvas.draw()\n",
    "    buf = canvas.buffer_rgba()\n",
    "    # convert to a NumPy array\n",
    "    X = np.asarray(buf)\n",
    "    print(\"X is\", X)\n",
    "    plt.imshow(X)\n",
    "\n",
    "def create_dataset():\n",
    "    for _ in range(1):\n",
    "        # generate random numbers between 0-1\n",
    "        ar1 = [gauss(0,1) for i in range(3)]\n",
    "        ar2 = [gauss(0,1) for i in range(3)]\n",
    "\n",
    "        nodes1 = np.asfortranarray([ar1,ar2])\n",
    "        curve1 = bezier.Curve(nodes1, degree=2)\n",
    "        \n",
    "        fig = Figure(figsize=(3, 3), dpi=1)\n",
    "        canvas = FigureCanvasAgg(fig)\n",
    "        ax = curve1.plot(num_pts=256)\n",
    "        \n",
    "        # Retrieve a view on the renderer buffer\n",
    "        canvas.draw()\n",
    "        buf = canvas.buffer_rgba()\n",
    "        # convert to a NumPy array\n",
    "        X = np.asarray(buf)\n",
    "        print(\"X is\", X)\n",
    "        plt.imshow(X)\n",
    "        #print(\"ax\", ax)\n",
    "        #SG_imagedata(curve1)\n",
    "        #print(\"ax.figure\", type(ax.figure))\n",
    "        \n",
    "        cap_data = np.array([ar1, ar2, curve1.length], dtype=\"object\")\n",
    "        raw.append(cap_data)\n",
    "    \n",
    "create_dataset()\n",
    "#print(raw)\n",
    "'''\n",
    "ax = curve1.plot(num_pts=256)\n",
    "ax.axis(\"off\")\n",
    "ax.get_xaxis().set_visible(False)\n",
    "ax.get_yaxis().set_visible(False)\n",
    "#ax.figure.savefig('out.png', bbox_inches='tight', pad_inches=0)\n",
    "'''\n"
   ]
  },
  {
   "cell_type": "code",
   "execution_count": null,
   "metadata": {},
   "outputs": [],
   "source": []
  }
 ],
 "metadata": {
  "kernelspec": {
   "display_name": "Python 3",
   "language": "python",
   "name": "python3"
  },
  "language_info": {
   "codemirror_mode": {
    "name": "ipython",
    "version": 3
   },
   "file_extension": ".py",
   "mimetype": "text/x-python",
   "name": "python",
   "nbconvert_exporter": "python",
   "pygments_lexer": "ipython3",
   "version": "3.7.9"
  }
 },
 "nbformat": 4,
 "nbformat_minor": 4
}
